{
 "cells": [
  {
   "cell_type": "markdown",
   "id": "cf73ea5c",
   "metadata": {},
   "source": [
    "## Random Sampling and Sample Bias"
   ]
  },
  {
   "cell_type": "markdown",
   "id": "285da0c8",
   "metadata": {},
   "source": [
    "A sample is a subset of data from a larger data set; statisticians call this larger data set the population. A population in statistics is not the same thing as in biology—it is a large, defined (but sometimes theoretical or imaginary) set of data.<br>\n",
    "\n",
    "Random sampling is a process in which each available member of the population being sampled has an equal chance of being chosen for the sample at each draw. The sample that results is called a simple random sample. Sampling can be done with replacement, in which observations are put back in the population after each draw for possible future reselection. Or it can be done without replacement, in which case observations, once selected, are unavailable for future draws.<br>\n",
    "\n",
    "Data quality often matters more than data quantity when making an estimate or a model based on a sample. Data quality in data science involves completeness, consistency of format, cleanliness, and accuracy of individual data points. Statistics adds the notion of representativeness.<br>"
   ]
  },
  {
   "cell_type": "markdown",
   "id": "7a6d00bb",
   "metadata": {},
   "source": [
    "## Bias"
   ]
  },
  {
   "cell_type": "markdown",
   "id": "a395c529",
   "metadata": {},
   "source": [
    "Statistical bias refers to measurement or sampling errors that are systematic and produced by the measurement or sampling process. An important distinction should be made between errors due to random chance and errors due to bias. Consider the physical process of a gun shooting at a target. It will not hit the absolute center of the target every time, or even much at all. An unbiased process will produce error, but it is random and does not tend strongly in any direction"
   ]
  },
  {
   "cell_type": "markdown",
   "id": "4a38b24f",
   "metadata": {},
   "source": [
    "Bias comes in different forms, and may be observable or invisible. When a result does suggest bias (e.g., by reference to a benchmark or actual values), it is often an indicator that a statistical or machine learning model has been misspecified, or an important variable left out."
   ]
  },
  {
   "cell_type": "markdown",
   "id": "44e1a6e3",
   "metadata": {},
   "source": [
    "## Random Selection"
   ]
  },
  {
   "cell_type": "markdown",
   "id": "e6acf9d6",
   "metadata": {},
   "source": [
    "Random sampling is not always easy. Proper definition of an accessible population is key. Suppose we want to generate a representative profile of customers and we need to conduct a pilot customer survey. The survey needs to be representative but is labor intensive. <br>\n",
    "\n",
    "First, we need to define who a customer is. We might select all customer records where purchase amount > 0. Do we include all past customers? Do we include refunds? Internal test purchases? Resellers? Both billing agent and customer? <br>\n",
    "\n",
    "Next, we need to specify a sampling procedure. It might be “select 100 customers at random.” Where a sampling from a flow is involved (e.g., real-time customer transactions or web visitors), timing considerations may be important (e.g., a web visitor at 10 a.m. on a weekday may be different from a web visitor at 10 p.m. on a weekend). <br>\n",
    "\n",
    "In stratified sampling, the population is divided up into strata, and random samples are taken from each stratum. Political pollsters might seek to learn the electoral preferences of whites, blacks, and Hispanics. A simple random sample taken from the population would yield too few blacks and Hispanics, so those strata could be overweighted in stratified sampling to yield equivalent sample sizes. <br>"
   ]
  },
  {
   "cell_type": "markdown",
   "id": "50d2370e",
   "metadata": {},
   "source": [
    "## Size Versus Quality: When Does Size Matter?"
   ]
  },
  {
   "cell_type": "markdown",
   "id": "35b71bba",
   "metadata": {},
   "source": [
    "In the era of big data, it is sometimes surprising that smaller is better. Time and effort spent on random sampling not only reduces bias but also allows greater attention to data exploration and data quality. For example, missing data and outliers may contain useful information. It might be prohibitively expensive to track down missing values or evaluate outliers in millions of records, but doing so in a sample of several thousand records may be feasible. Data plotting and manual inspection bog down if there is too much data."
   ]
  },
  {
   "cell_type": "markdown",
   "id": "dea88094",
   "metadata": {},
   "source": [
    "- Even in the era of big data, random sampling remains an important arrow in the data scientist’s quiver.\n",
    "\n",
    "- Bias occurs when measurements or observations are systematically in error because they are not representative of the full population.\n",
    "\n",
    "- Data quality is often more important than data quantity, and random sampling can reduce bias and facilitate quality improvement that would otherwise be prohibitively expensive."
   ]
  },
  {
   "cell_type": "markdown",
   "id": "fef8379c",
   "metadata": {},
   "source": [
    "## Selection Bias"
   ]
  },
  {
   "cell_type": "markdown",
   "id": "ebb0838b",
   "metadata": {},
   "source": [
    "Selection bias refers to the practice of selectively choosing data—consciously or unconsciously—in a way that leads to a conclusion that is misleading or ephemeral."
   ]
  },
  {
   "cell_type": "markdown",
   "id": "b5397b51",
   "metadata": {},
   "source": [
    "If you specify a hypothesis and conduct a well-designed experiment to test it, you can have high confidence in the conclusion. This is frequently not what occurs, however. Often, one looks at available data and tries to discern patterns. But are the patterns real? Or are they just the product of data snooping—that is, extensive hunting through the data until something interesting emerges? There is a saying among statisticians: “If you torture the data long enough, sooner or later it will confess.” <br>\n",
    "\n",
    "The difference between a phenomenon that you verify when you test a hypothesis using an experiment and a phenomenon that you discover by perusing available data can be illuminated with the following thought experiment. <br>\n",
    "\n",
    "Imagine that someone tells you they can flip a coin and have it land heads on the next 10 tosses. You challenge them (the equivalent of an experiment), and they proceed to toss the coin 10 times, with all flips landing heads. Clearly you ascribe some special talent to this person—the probability that 10 coin tosses will land heads just by chance is 1 in 1,000. <br>\n",
    "\n",
    "Now imagine that the announcer at a sports stadium asks the 20,000 people in attendance each to toss a coin 10 times, and to report to an usher if they get 10 heads in a row. The chance that somebody in the stadium will get 10 heads is extremely high (more than 99%—it’s 1 minus the probability that nobody gets 10 heads). Clearly, selecting after the fact the person (or persons) who gets 10 heads at the stadium does not indicate they have any special talent—it’s most likely luck. <br>\n",
    "\n",
    "Since repeated review of large data sets is a key value proposition in data science, selection bias is something to worry about. A form of selection bias of particular concern to data scientists is what John Elder (founder of Elder Research, a respected data mining consultancy) calls the vast search effect. If you repeatedly run different models and ask different questions with a large data set, you are bound to find something interesting. But is the result you found truly something interesting, or is it the chance outlier? <br>\n",
    "\n",
    "We can guard against this by using a holdout set, and sometimes more than one holdout set, against which to validate performance. Elder also advocates the use of what he calls target shuffling (a permutation test, in essence) to test the validity of predictive associations that a data mining model suggests. <br>"
   ]
  },
  {
   "cell_type": "markdown",
   "id": "3ff530fe",
   "metadata": {},
   "source": [
    "## Sampling Distribution of a Statistic"
   ]
  },
  {
   "cell_type": "markdown",
   "id": "186e66aa",
   "metadata": {},
   "source": [
    "The term sampling distribution of a statistic refers to the distribution of some sample statistic over many samples drawn from the same population. Much of classical statistics is concerned with making inferences from (small) samples to (very large) populations."
   ]
  },
  {
   "cell_type": "markdown",
   "id": "4353d6fd",
   "metadata": {},
   "source": [
    "Typically, a sample is drawn with the goal of measuring something (with a sample statistic) or modeling something (with a statistical or machine learning model). Since our estimate or model is based on a sample, it might be in error; it might be different if we were to draw a different sample. We are therefore interested in how different it might be—a key concern is sampling variability. If we had lots of data, we could draw additional samples and observe the distribution of a sample statistic directly. Typically, we will calculate our estimate or model using as much data as is easily available, so the option of drawing additional samples from the population is not readily available."
   ]
  },
  {
   "cell_type": "markdown",
   "id": "77d7ada2",
   "metadata": {},
   "source": [
    "The distribution of a sample statistic such as the mean is likely to be more regular and bell-shaped than the distribution of the data itself. The larger the sample the statistic is based on, the more this is true. Also, the larger the sample, the narrower the distribution of the sample statistic."
   ]
  },
  {
   "cell_type": "code",
   "execution_count": 7,
   "id": "0e95d9c3",
   "metadata": {},
   "outputs": [],
   "source": [
    "from pathlib import Path\n",
    "import pandas as pd\n",
    "import numpy as np\n",
    "from scipy import stats\n",
    "from sklearn.utils import resample\n",
    "\n",
    "import seaborn as sns\n",
    "import matplotlib.pylab as plt"
   ]
  },
  {
   "cell_type": "code",
   "execution_count": 8,
   "id": "b80783d6",
   "metadata": {},
   "outputs": [],
   "source": [
    "try:\n",
    "    import common\n",
    "    DATA = common.dataDirectory()\n",
    "except ImportError:\n",
    "    DATA = Path().resolve() / 'data'"
   ]
  },
  {
   "cell_type": "code",
   "execution_count": 9,
   "id": "1dbc3feb",
   "metadata": {},
   "outputs": [],
   "source": [
    "LOANS_INCOME_CSV = DATA / 'loans_income.csv'\n",
    "SP500_DATA_CSV = DATA / 'sp500_data.csv.gz'"
   ]
  },
  {
   "cell_type": "code",
   "execution_count": 10,
   "id": "e6303946",
   "metadata": {},
   "outputs": [],
   "source": [
    "np.random.seed(seed=1)\n",
    "x = np.linspace(-3, 3, 300)"
   ]
  },
  {
   "cell_type": "code",
   "execution_count": 11,
   "id": "6a2c0376",
   "metadata": {},
   "outputs": [],
   "source": [
    "xsample = stats.norm.rvs(size=1000)"
   ]
  },
  {
   "cell_type": "code",
   "execution_count": 12,
   "id": "7a005cd8",
   "metadata": {},
   "outputs": [
    {
     "data": {
      "image/png": "[encoded data removed]",
      "text/plain": [
       "<Figure size 360x108 with 2 Axes>"
      ]
     },
     "metadata": {
      "needs_background": "light"
     },
     "output_type": "display_data"
    }
   ],
   "source": [
    "fig, axes = plt.subplots(ncols=2, figsize=(5, 1.5))\n",
    "\n",
    "ax = axes[0]\n",
    "ax.fill(x, stats.norm.pdf(x))\n",
    "ax.set_axis_off()\n",
    "ax.set_xlim(-3, 3)\n",
    "\n",
    "ax = axes[1]\n",
    "ax.hist(xsample, bins=30)\n",
    "ax.set_axis_off()\n",
    "ax.set_xlim(-3, 3)\n",
    "ax.set_position\n",
    "# plt.subplots_adjust(left=0, bottom=0, right=1, top=1, wspace=0, hspace=0)\n",
    "\n",
    "plt.show()"
   ]
  },
  {
   "cell_type": "code",
   "execution_count": 13,
   "id": "94153704",
   "metadata": {},
   "outputs": [
    {
     "name": "stdout",
     "output_type": "stream",
     "text": [
      "         income  type\n",
      "40292   63000.0  Data\n",
      "38959   92000.0  Data\n",
      "17361  134000.0  Data\n",
      "33996   52000.0  Data\n",
      "26491   43000.0  Data\n"
     ]
    }
   ],
   "source": [
    "loans_income = pd.read_csv(LOANS_INCOME_CSV, squeeze=True)\n",
    "\n",
    "sample_data = pd.DataFrame({\n",
    "    'income': loans_income.sample(1000),\n",
    "    'type': 'Data',\n",
    "})\n",
    "\n",
    "sample_mean_05 = pd.DataFrame({\n",
    "    'income': [loans_income.sample(5).mean() for _ in range(1000)],\n",
    "    'type': 'Mean of 5',\n",
    "})\n",
    "\n",
    "sample_mean_20 = pd.DataFrame({\n",
    "    'income': [loans_income.sample(20).mean() for _ in range(1000)],\n",
    "    'type': 'Mean of 20',\n",
    "})\n",
    "\n",
    "results = pd.concat([sample_data, sample_mean_05, sample_mean_20])\n",
    "print(results.head())"
   ]
  },
  {
   "cell_type": "code",
   "execution_count": 14,
   "id": "08a67f36",
   "metadata": {},
   "outputs": [
    {
     "data": {
      "image/png": "[encoded data removed]",
      "text/plain": [
       "<Figure size 288x432 with 3 Axes>"
      ]
     },
     "metadata": {
      "needs_background": "light"
     },
     "output_type": "display_data"
    }
   ],
   "source": [
    "g = sns.FacetGrid(results, col='type', col_wrap=1, \n",
    "                  height=2, aspect=2)\n",
    "g.map(plt.hist, 'income', range=[0, 200000], bins=40)\n",
    "g.set_axis_labels('Income', 'Count')\n",
    "g.set_titles('{col_name}')\n",
    "\n",
    "plt.tight_layout()\n",
    "plt.show()"
   ]
  },
  {
   "cell_type": "markdown",
   "id": "a5b633d3",
   "metadata": {},
   "source": [
    "The histogram of the individual data values is broadly spread out and skewed toward higher values, as is to be expected with income data. The histograms of the means of 5 and 20 are increasingly compact and more bell-shaped."
   ]
  },
  {
   "cell_type": "markdown",
   "id": "7c7496ee",
   "metadata": {},
   "source": [
    "## Central Limit Theorem"
   ]
  },
  {
   "cell_type": "markdown",
   "id": "a07a492c",
   "metadata": {},
   "source": [
    "The phenomenon we’ve just described is termed the central limit theorem. It says that the means drawn from multiple samples will resemble the familiar bell-shaped normal curve, even if the source population is not normally distributed, provided that the sample size is large enough and the departure of the data from normality is not too great. The central limit theorem allows normal-approximation formulas like the t-distribution to be used in calculating sampling distributions for inference—that is, confidence intervals and hypothesis tests."
   ]
  },
  {
   "cell_type": "markdown",
   "id": "a377103d",
   "metadata": {},
   "source": [
    "The central limit theorem receives a lot of attention in traditional statistics texts because it underlies the machinery of hypothesis tests and confidence intervals, which themselves consume half the space in such texts. Data scientists should be aware of this role; however, since formal hypothesis tests and confidence intervals play a small role in data science, and the bootstrap is available in any case, the central limit theorem is not so central in the practice of data science."
   ]
  },
  {
   "cell_type": "markdown",
   "id": "395d8697",
   "metadata": {},
   "source": [
    "## Standard Error"
   ]
  },
  {
   "cell_type": "markdown",
   "id": "c74600bd",
   "metadata": {},
   "source": [
    "The standard error is a single metric that sums up the variability in the sampling distribution for a statistic. The standard error can be estimated using a statistic based on the standard deviation s of the sample values, and the sample size n:"
   ]
  },
  {
   "cell_type": "markdown",
   "id": "24dbd062",
   "metadata": {},
   "source": [
    "${Standard error} = {SE}$ = $\\frac{s}{\\sqrt{n}}$"
   ]
  },
  {
   "cell_type": "markdown",
   "id": "2da058f4",
   "metadata": {},
   "source": [
    "As the sample size increases, the standard error decreases. The relationship between standard error and sample size is sometimes referred to as the square root of n rule: to reduce the standard error by a factor of 2, the sample size must be increased by a factor of 4."
   ]
  },
  {
   "cell_type": "markdown",
   "id": "c9ac061f",
   "metadata": {},
   "source": [
    "- Collect a number of brand-new samples from the population.\n",
    "\n",
    "- For each new sample, calculate the statistic (e.g., mean).\n",
    "\n",
    "- Calculate the standard deviation of the statistics computed in step 2; use this as your estimate of standard error."
   ]
  },
  {
   "cell_type": "markdown",
   "id": "948779eb",
   "metadata": {},
   "source": [
    "Collect a number of brand-new samples from the population.\n",
    "\n",
    "For each new sample, calculate the statistic (e.g., mean).\n",
    "\n",
    "Calculate the standard deviation of the statistics computed in step 2; use this as your estimate of standard error."
   ]
  },
  {
   "cell_type": "markdown",
   "id": "000713c3",
   "metadata": {},
   "source": [
    "## The Bootstrap"
   ]
  },
  {
   "cell_type": "markdown",
   "id": "771862e8",
   "metadata": {},
   "source": [
    "One easy and effective way to estimate the sampling distribution of a statistic, or of model parameters, is to draw additional samples, with replacement, from the sample itself and recalculate the statistic or model for each resample. This procedure is called the bootstrap, and it does not necessarily involve any assumptions about the data or the sample statistic being normally distributed."
   ]
  },
  {
   "cell_type": "markdown",
   "id": "57c2bcec",
   "metadata": {},
   "source": [
    "In practice, it is not necessary to actually replicate the sample a huge number of times. We simply replace each observation after each draw; that is, we sample with replacement. In this way we effectively create an infinite population in which the probability of an element being drawn remains unchanged from draw to draw. The algorithm for a bootstrap resampling of the mean, for a sample of size n, is as follows:"
   ]
  },
  {
   "cell_type": "markdown",
   "id": "ed103767",
   "metadata": {},
   "source": [
    "- Draw a sample value, record it, and then replace it.\n",
    "\n",
    "- Repeat n times.\n",
    "\n",
    "- Record the mean of the n resampled values.\n",
    "\n",
    "- Repeat steps 1–3 R times.\n",
    "\n",
    "- Use the R results to:\n",
    "\n",
    "     * Calculate their standard deviation (this estimates sample mean standard error).\n",
    "\n",
    "     * Produce a histogram or boxplot.\n",
    "\n",
    "     * Find a confidence interval."
   ]
  },
  {
   "cell_type": "code",
   "execution_count": 15,
   "id": "2ea59e2e",
   "metadata": {},
   "outputs": [
    {
     "name": "stdout",
     "output_type": "stream",
     "text": [
      "Bootstrap Statistics:\n",
      "original: 62000.0\n",
      "bias: -82.09799999999814\n",
      "std. error: 228.73933106830927\n"
     ]
    }
   ],
   "source": [
    "from sklearn.utils import resample\n",
    "results = []\n",
    "for nrepeat in range(1000):\n",
    "    sample = resample(loans_income)\n",
    "    results.append(sample.median())\n",
    "results = pd.Series(results)\n",
    "print('Bootstrap Statistics:')\n",
    "print(f'original: {loans_income.median()}')\n",
    "print(f'bias: {results.mean() - loans_income.median()}')\n",
    "print(f'std. error: {results.std()}')"
   ]
  },
  {
   "cell_type": "markdown",
   "id": "4d8175b5",
   "metadata": {},
   "source": [
    "The original estimate of the median is 62,000. The bootstrap distribution indicates that the estimate has a bias of about –82 and a standard error of 229. The results will vary slightly between consecutive runs of the algorithm."
   ]
  },
  {
   "cell_type": "markdown",
   "id": "96b3da0c",
   "metadata": {},
   "source": [
    "The bootstrap can be used with multivariate data, where the rows are sampled as units. A model might then be run on the bootstrapped data, for example, to estimate the stability (variability) of model parameters, or to improve predictive power. With classification and regression trees (also called decision trees), running multiple trees on bootstrap samples and then averaging their predictions (or, with classification, taking a majority vote) generally performs better than using a single tree. This process is called bagging (short for “bootstrap aggregating”)"
   ]
  },
  {
   "cell_type": "markdown",
   "id": "128b139b",
   "metadata": {},
   "source": [
    "## Confidence Intervals"
   ]
  },
  {
   "cell_type": "markdown",
   "id": "6fba708a",
   "metadata": {},
   "source": [
    "Frequency tables, histograms, boxplots, and standard errors are all ways to understand the potential error in a sample estimate. Confidence intervals are another."
   ]
  },
  {
   "cell_type": "markdown",
   "id": "a53e81f6",
   "metadata": {},
   "source": [
    "Given a sample of size n, and a sample statistic of interest, the algorithm for a bootstrap confidence interval is as follows:"
   ]
  },
  {
   "cell_type": "markdown",
   "id": "8669e1ff",
   "metadata": {},
   "source": [
    "1. Draw a random sample of size n with replacement from the data (a resample).\n",
    "\n",
    "2. Record the statistic of interest for the resample.\n",
    "\n",
    "3. Repeat steps 1–2 many (R) times.\n",
    "\n",
    "4. For an x% confidence interval, trim [(100-x) / 2]% of the R resample results from either end of the distribution.\n",
    "\n",
    "5. The trim points are the endpoints of an x% bootstrap confidence interval."
   ]
  },
  {
   "cell_type": "code",
   "execution_count": 19,
   "id": "15d7aed2",
   "metadata": {},
   "outputs": [
    {
     "name": "stdout",
     "output_type": "stream",
     "text": [
      "68760.51844\n",
      "55734.1\n"
     ]
    },
    {
     "data": {
      "image/png": "[encoded data removed]",
      "text/plain": [
       "<Figure size 288x216 with 1 Axes>"
      ]
     },
     "metadata": {
      "needs_background": "light"
     },
     "output_type": "display_data"
    }
   ],
   "source": [
    "print(loans_income.mean())\n",
    "np.random.seed(seed=3)  \n",
    "# create a sample of 20 loan income data\n",
    "sample20 = resample(loans_income, n_samples=20, replace=False)\n",
    "print(sample20.mean())\n",
    "results = []\n",
    "for nrepeat in range(500):\n",
    "    sample = resample(sample20)\n",
    "    results.append(sample.mean())\n",
    "results = pd.Series(results)\n",
    "\n",
    "confidence_interval = list(results.quantile([0.05, 0.95]))\n",
    "ax = results.plot.hist(bins=30, figsize=(4, 3))\n",
    "ax.plot(confidence_interval, [55, 55], color='black')\n",
    "for x in confidence_interval:\n",
    "    ax.plot([x, x], [0, 65], color='black')\n",
    "    ax.text(x, 70, f'{x:.0f}', \n",
    "            horizontalalignment='center', verticalalignment='center')\n",
    "ax.text(sum(confidence_interval) / 2, 60, '90% interval',\n",
    "        horizontalalignment='center', verticalalignment='center')\n",
    "\n",
    "meanIncome = results.mean()\n",
    "ax.plot([meanIncome, meanIncome], [0, 50], color='black', linestyle='--')\n",
    "ax.text(meanIncome, 10, f'Mean: {meanIncome:.0f}',\n",
    "        bbox=dict(facecolor='white', edgecolor='white', alpha=0.5),\n",
    "        horizontalalignment='center', verticalalignment='center')\n",
    "ax.set_ylim(0, 80)\n",
    "ax.set_ylabel('Counts')\n",
    "\n",
    "plt.tight_layout()\n",
    "plt.show()"
   ]
  },
  {
   "cell_type": "code",
   "execution_count": 20,
   "id": "2e948ba3",
   "metadata": {},
   "outputs": [
    {
     "data": {
      "text/plain": [
       "Text(0, 0.5, 'Counts')"
      ]
     },
     "execution_count": 20,
     "metadata": {},
     "output_type": "execute_result"
    },
    {
     "data": {
      "image/png": "[encoded data removed]",
      "text/plain": [
       "<Figure size 288x216 with 1 Axes>"
      ]
     },
     "metadata": {
      "needs_background": "light"
     },
     "output_type": "display_data"
    }
   ],
   "source": [
    "np.random.seed(seed=3)\n",
    "# create a sample of 20 loan income data\n",
    "sample20 = resample(loans_income, n_samples=20, replace=False)\n",
    "\n",
    "results = []\n",
    "for nrepeat in range(500):\n",
    "    sample = resample(sample20)\n",
    "    results.append(sample.mean())\n",
    "results = pd.Series(results)\n",
    "\n",
    "confidence_interval = list(results.quantile([0.05, 0.95]))\n",
    "ax = results.plot.hist(bins=30, figsize=(4, 3), color='C1')\n",
    "ax.plot(confidence_interval, [55, 55], color='black', linestyle='--')\n",
    "for x in confidence_interval:\n",
    "    ax.plot([x, x], [0, 60], color='black')\n",
    "ax.text(82000, 50, \n",
    "        f'90% CI\\n[{confidence_interval[0]:.0f}, {confidence_interval[1]:.0f}]',\n",
    "       fontsize='small')\n",
    "\n",
    "confidence_interval = list(results.quantile([0.025, 0.975]))\n",
    "ax = results.plot.hist(bins=30, figsize=(4, 3))\n",
    "ax.plot(confidence_interval, [65, 65], color='black', linestyle='--')\n",
    "for x in confidence_interval:\n",
    "    ax.plot([x, x], [0, 70], color='black')\n",
    "ax.text(82000, 65, \n",
    "        f'95% CI\\n[{confidence_interval[0]:.0f}, {confidence_interval[1]:.0f}]',\n",
    "       fontsize='small')\n",
    "# ax.text(sum(confidence_interval) / 2, 264, '95 % interval',\n",
    "#         horizontalalignment='center', verticalalignment='center')\n",
    "\n",
    "meanIncome = results.mean()\n",
    "ax.plot([meanIncome, meanIncome], [0, 50], color='black', linestyle='--')\n",
    "ax.text(meanIncome, 5, f'Mean: {meanIncome:.0f}',\n",
    "        bbox=dict(facecolor='white', edgecolor='white', alpha=0.5),\n",
    "        horizontalalignment='center', verticalalignment='center')\n",
    "ax.set_ylim(0, 80)\n",
    "ax.set_xlim(37000, 102000)\n",
    "ax.set_xticks([40000, 50000, 60000, 70000, 80000])\n",
    "ax.set_ylabel('Counts')\n",
    "\n",
    "# plt.tight_layout()\n",
    "# plt.show()"
   ]
  },
  {
   "cell_type": "markdown",
   "id": "958738f9",
   "metadata": {},
   "source": [
    "The bootstrap is a general tool that can be used to generate confidence intervals for most statistics, or model parameters. Statistical textbooks and software, with roots in over a half century of computerless statistical analysis, will also reference confidence intervals generated by formulas, especially the t-distribution"
   ]
  },
  {
   "cell_type": "markdown",
   "id": "adcc5f6c",
   "metadata": {},
   "source": [
    "The bootstrap is a general tool that can be used to generate confidence intervals for most statistics, or model parameters. Statistical textbooks and software, with roots in over a half century of computerless statistical analysis, will also reference confidence intervals generated by formulas, especially the t-distribution"
   ]
  },
  {
   "cell_type": "markdown",
   "id": "2cd7b663",
   "metadata": {},
   "source": [
    "## Normal Distribution"
   ]
  },
  {
   "cell_type": "markdown",
   "id": "fd6d50a0",
   "metadata": {},
   "source": [
    "The bell-shaped normal distribution is iconic in traditional statistics. The fact that distributions of sample statistics are often normally shaped has made it a powerful tool in the development of mathematical formulas that approximate those distributions."
   ]
  },
  {
   "cell_type": "markdown",
   "id": "23f622fc",
   "metadata": {},
   "source": [
    "### Standard Normal and QQ-Plots"
   ]
  },
  {
   "cell_type": "markdown",
   "id": "bc24cb8c",
   "metadata": {},
   "source": [
    "The package scipy has the function (scipy.stats.probplot) to create QQ-plots. The argument dist specifies the distribution, which is set by default to the normal distribution."
   ]
  },
  {
   "cell_type": "code",
   "execution_count": 22,
   "id": "37de9fe0",
   "metadata": {},
   "outputs": [
    {
     "data": {
      "image/png": "[encoded data removed]",
      "text/plain": [
       "<Figure size 288x288 with 1 Axes>"
      ]
     },
     "metadata": {
      "needs_background": "light"
     },
     "output_type": "display_data"
    }
   ],
   "source": [
    "fig, ax = plt.subplots(figsize=(4, 4))\n",
    "\n",
    "norm_sample = stats.norm.rvs(size=100)\n",
    "stats.probplot(norm_sample, plot=ax)\n",
    "\n",
    "plt.tight_layout()\n",
    "plt.show()"
   ]
  },
  {
   "cell_type": "markdown",
   "id": "f996d06e",
   "metadata": {},
   "source": [
    "- z-score:\n",
    "The result of standardizing an individual data point."
   ]
  },
  {
   "cell_type": "markdown",
   "id": "0fc0a5a0",
   "metadata": {},
   "source": [
    "- Standard normal:\n",
    "A normal distribution with mean = 0 and standard deviation = 1."
   ]
  },
  {
   "cell_type": "markdown",
   "id": "562c32ae",
   "metadata": {},
   "source": [
    "A standard normal distribution is one in which the units on the x-axis are expressed in terms of standard deviations away from the mean. To compare data to a standard normal distribution, you subtract the mean and then divide by the standard deviation; this is also called normalization or standardization. Note that “standardization” in this sense is unrelated to database record standardization (conversion to a common format). The transformed value is termed a z-score, and the normal distribution is sometimes called the z-distribution."
   ]
  },
  {
   "cell_type": "markdown",
   "id": "25c5ad4e",
   "metadata": {},
   "source": [
    "A QQ-Plot is used to visually determine how close a sample is to a specified distribution—in this case, the normal distribution. The QQ-Plot orders the z-scores from low to high and plots each value’s z-score on the y-axis; the x-axis is the corresponding quantile of a normal distribution for that value’s rank. Since the data is normalized, the units correspond to the number of standard deviations away from the mean. If the points roughly fall on the diagonal line, then the sample distribution can be considered close to normal."
   ]
  },
  {
   "cell_type": "code",
   "execution_count": 18,
   "id": "8f409aa5",
   "metadata": {
    "scrolled": true
   },
   "outputs": [
    {
     "data": {
      "text/plain": [
       "((array([-2.46203784, -2.12570747, -1.93122778, -1.79044653, -1.67819304,\n",
       "         -1.58381122, -1.50174123, -1.42869743, -1.36256869, -1.30191411,\n",
       "         -1.24570419, -1.19317644, -1.14374949, -1.09696931, -1.05247413,\n",
       "         -1.00997067, -0.96921765, -0.93001393, -0.89218993, -0.85560121,\n",
       "         -0.82012357, -0.78564937, -0.75208458, -0.71934648, -0.68736185,\n",
       "         -0.65606548, -0.62539893, -0.59530962, -0.56574992, -0.53667655,\n",
       "         -0.50804994, -0.47983378, -0.45199463, -0.42450149, -0.39732558,\n",
       "         -0.37044003, -0.34381966, -0.31744076, -0.29128096, -0.26531902,\n",
       "         -0.23953472, -0.21390872, -0.18842244, -0.16305799, -0.13779803,\n",
       "         -0.1126257 , -0.08752455, -0.06247843, -0.03747145, -0.01248789,\n",
       "          0.01248789,  0.03747145,  0.06247843,  0.08752455,  0.1126257 ,\n",
       "          0.13779803,  0.16305799,  0.18842244,  0.21390872,  0.23953472,\n",
       "          0.26531902,  0.29128096,  0.31744076,  0.34381966,  0.37044003,\n",
       "          0.39732558,  0.42450149,  0.45199463,  0.47983378,  0.50804994,\n",
       "          0.53667655,  0.56574992,  0.59530962,  0.62539893,  0.65606548,\n",
       "          0.68736185,  0.71934648,  0.75208458,  0.78564937,  0.82012357,\n",
       "          0.85560121,  0.89218993,  0.93001393,  0.96921765,  1.00997067,\n",
       "          1.05247413,  1.09696931,  1.14374949,  1.19317644,  1.24570419,\n",
       "          1.30191411,  1.36256869,  1.42869743,  1.50174123,  1.58381122,\n",
       "          1.67819304,  1.79044653,  1.93122778,  2.12570747,  2.46203784]),\n",
       "  array([-3.19501767, -2.34202299, -1.82926121, -1.69817064, -1.59003392,\n",
       "         -1.56560084, -1.5641244 , -1.55106248, -1.53086152, -1.52784068,\n",
       "         -1.43799229, -1.36634223, -1.3241927 , -1.22150482, -1.20965171,\n",
       "         -1.19886338, -1.1780672 , -1.0902221 , -1.05894606, -1.04863665,\n",
       "         -1.00167832, -0.98679783, -0.97927165, -0.96591828, -0.95647198,\n",
       "         -0.88435316, -0.82350929, -0.81781856, -0.81067273, -0.77355782,\n",
       "         -0.72909088, -0.64409451, -0.62935707, -0.59858018, -0.59023766,\n",
       "         -0.5275116 , -0.47271979, -0.46792496, -0.43595513, -0.3929267 ,\n",
       "         -0.38238513, -0.36263278, -0.36198715, -0.34095142, -0.32413609,\n",
       "         -0.31357072, -0.28004403, -0.16857313, -0.15254783, -0.1190487 ,\n",
       "         -0.11449496, -0.09392261, -0.02931344, -0.01684746,  0.03992549,\n",
       "          0.08999662,  0.11920996,  0.13890545,  0.16584343,  0.18339977,\n",
       "          0.22598609,  0.23953176,  0.24955081,  0.26036226,  0.27908666,\n",
       "          0.27922297,  0.28419332,  0.3087694 ,  0.32282705,  0.35737218,\n",
       "          0.37696346,  0.37896672,  0.38935753,  0.45360962,  0.46239361,\n",
       "          0.46266782,  0.47145626,  0.49153255,  0.49228186,  0.53587929,\n",
       "          0.56536887,  0.60262199,  0.65329833,  0.68672877,  0.81044865,\n",
       "          0.8237046 ,  0.92436706,  0.97429384,  1.02666841,  1.13164994,\n",
       "          1.13199262,  1.18824202,  1.19929159,  1.20155793,  1.51213358,\n",
       "          1.68705651,  1.69966192,  1.84469765,  2.10905231,  2.27856218])),\n",
       " (1.0029863554515652, -0.15966628320970566, 0.9948776114110374))"
      ]
     },
     "execution_count": 18,
     "metadata": {},
     "output_type": "execute_result"
    },
    {
     "data": {
      "image/png": "[encoded data removed]",
      "text/plain": [
       "<Figure size 288x288 with 1 Axes>"
      ]
     },
     "metadata": {
      "needs_background": "light"
     },
     "output_type": "display_data"
    }
   ],
   "source": [
    "fig, ax = plt.subplots(figsize=(4, 4))\n",
    "norm_sample = stats.norm.rvs(size=100)\n",
    "stats.probplot(norm_sample, plot=ax)"
   ]
  },
  {
   "cell_type": "markdown",
   "id": "5d6e441e",
   "metadata": {},
   "source": [
    "**To convert data to z-scores, you subtract the mean of the data and divide by the standard deviation; you can then compare the data to a normal distribution.**"
   ]
  },
  {
   "cell_type": "markdown",
   "id": "1efdcc90",
   "metadata": {},
   "source": [
    "## Long-Tailed Distributions"
   ]
  },
  {
   "cell_type": "markdown",
   "id": "f1060245",
   "metadata": {},
   "source": [
    "Despite the importance of the normal distribution historically in statistics, and in contrast to what the name would suggest, data is generally not normally distributed."
   ]
  },
  {
   "cell_type": "markdown",
   "id": "200b4ad1",
   "metadata": {},
   "source": [
    "While the normal distribution is often appropriate and useful with respect to the distribution of errors and sample statistics, it typically does not characterize the distribution of raw data. Sometimes, the distribution is highly skewed (asymmetric), such as with income data; or the distribution can be discrete, as with binomial data. Both symmetric and asymmetric distributions may have long tails. The tails of a distribution correspond to the extreme values (small and large). Long tails, and guarding against them, are widely recognized in practical work. Nassim Taleb has proposed the black swan theory, which predicts that anomalous events, such as a stock market crash, are much more likely to occur than would be predicted by the normal distribution."
   ]
  },
  {
   "cell_type": "markdown",
   "id": "5a7fdd4a",
   "metadata": {},
   "source": [
    "- Tail:\n",
    "The long narrow portion of a frequency distribution, where relatively extreme values occur at low frequency.\n",
    "\n",
    "- Skew:\n",
    "Where one tail of a distribution is longer than the other."
   ]
  },
  {
   "cell_type": "code",
   "execution_count": 23,
   "id": "46ef6006",
   "metadata": {},
   "outputs": [
    {
     "data": {
      "image/png": "[encoded data removed]",
      "text/plain": [
       "<Figure size 288x288 with 1 Axes>"
      ]
     },
     "metadata": {
      "needs_background": "light"
     },
     "output_type": "display_data"
    }
   ],
   "source": [
    "sp500_px = pd.read_csv(SP500_DATA_CSV)\n",
    "\n",
    "nflx = sp500_px.NFLX\n",
    "nflx = np.diff(np.log(nflx[nflx>0]))\n",
    "\n",
    "fig, ax = plt.subplots(figsize=(4, 4))\n",
    "stats.probplot(nflx, plot=ax)\n",
    "\n",
    "plt.tight_layout()\n",
    "plt.show()"
   ]
  },
  {
   "cell_type": "markdown",
   "id": "b8fec7eb",
   "metadata": {},
   "source": [
    "the points are far below the line for low values and far above the line for high values, indicating the data are not normally distributed. This means that we are much more likely to observe extreme values than would be expected if the data had a normal distribution."
   ]
  },
  {
   "cell_type": "code",
   "execution_count": null,
   "id": "039ce8af",
   "metadata": {},
   "outputs": [],
   "source": []
  }
 ],
 "metadata": {
  "kernelspec": {
   "display_name": "time_series",
   "language": "python",
   "name": "time_series"
  },
  "language_info": {
   "codemirror_mode": {
    "name": "ipython",
    "version": 3
   },
   "file_extension": ".py",
   "mimetype": "text/x-python",
   "name": "python",
   "nbconvert_exporter": "python",
   "pygments_lexer": "ipython3",
   "version": "3.8.5"
  }
 },
 "nbformat": 4,
 "nbformat_minor": 5
}
