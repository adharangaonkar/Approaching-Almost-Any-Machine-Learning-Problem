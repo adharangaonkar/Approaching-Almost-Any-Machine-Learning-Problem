{
 "cells": [
  {
   "cell_type": "markdown",
   "id": "924c5cee",
   "metadata": {},
   "source": [
    "In multi-label classification, each sample can have one or more\n",
    "classes associated with it."
   ]
  },
  {
   "cell_type": "markdown",
   "id": "53f6fe67",
   "metadata": {},
   "source": [
    "The metrics for this type of classification problem are a bit different. Some suitable\n",
    "and most common metrics are:"
   ]
  },
  {
   "cell_type": "markdown",
   "id": "a15315a0",
   "metadata": {},
   "source": [
    "- Precision at k (P@k)\n",
    "- Average precision at k (AP@k)\n",
    "- Mean average precision at k (MAP@k)\n",
    "- Log loss"
   ]
  },
  {
   "cell_type": "markdown",
   "id": "0b3f6b01",
   "metadata": {},
   "source": [
    "## Precision at k or P@k"
   ]
  },
  {
   "cell_type": "markdown",
   "id": "541343fb",
   "metadata": {},
   "source": [
    "One must not confuse this precision with\n",
    "the precision discussed earlier. If you have a list of original classes for a given\n",
    "sample and list of predicted classes for the same, precision is defined as the number\n",
    "of hits in the predicted list considering only top-k predictions, divided by k."
   ]
  },
  {
   "cell_type": "code",
   "execution_count": null,
   "id": "735c6268",
   "metadata": {},
   "outputs": [],
   "source": []
  }
 ],
 "metadata": {
  "kernelspec": {
   "display_name": "time_series",
   "language": "python",
   "name": "time_series"
  },
  "language_info": {
   "codemirror_mode": {
    "name": "ipython",
    "version": 3
   },
   "file_extension": ".py",
   "mimetype": "text/x-python",
   "name": "python",
   "nbconvert_exporter": "python",
   "pygments_lexer": "ipython3",
   "version": "3.8.5"
  }
 },
 "nbformat": 4,
 "nbformat_minor": 5
}
