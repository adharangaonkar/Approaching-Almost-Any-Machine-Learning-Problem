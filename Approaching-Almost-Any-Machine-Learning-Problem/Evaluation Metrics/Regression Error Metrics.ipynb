{
 "cells": [
  {
   "cell_type": "markdown",
   "id": "30d8d9eb",
   "metadata": {},
   "source": [
    "## Error"
   ]
  },
  {
   "cell_type": "markdown",
   "id": "55a4d0c8",
   "metadata": {},
   "source": [
    "The most common metric in regression is error. **Error** is simple and very easy to\n",
    "understand.\n"
   ]
  },
  {
   "cell_type": "markdown",
   "id": "5b1220c6",
   "metadata": {},
   "source": [
    "**Error = True Value – Predicted Value**"
   ]
  },
  {
   "cell_type": "markdown",
   "id": "96218e49",
   "metadata": {},
   "source": [
    "### Absolute error"
   ]
  },
  {
   "cell_type": "markdown",
   "id": "d0faf4e6",
   "metadata": {},
   "source": [
    "Absolute error is just absolute of the above."
   ]
  },
  {
   "cell_type": "markdown",
   "id": "0ba44d48",
   "metadata": {},
   "source": [
    "**Absolute Error = Abs ( True Value – Predicted Value )**"
   ]
  },
  {
   "cell_type": "markdown",
   "id": "1cb0176e",
   "metadata": {},
   "source": [
    "## Mean Absolute Error (MAE)"
   ]
  },
  {
   "cell_type": "markdown",
   "id": "c2415309",
   "metadata": {},
   "source": [
    "It’s just mean of all absolute errors."
   ]
  },
  {
   "cell_type": "code",
   "execution_count": 1,
   "id": "ff977f56",
   "metadata": {},
   "outputs": [],
   "source": [
    "import numpy as np\n",
    "def mean_absolute_error(y_true, y_pred):\n",
    "    \"\"\"\n",
    "    This function calculates mae\n",
    "    :param y_true: list of real numbers, true values\n",
    "    :param y_pred: list of real numbers, predicted values\n",
    "    :return: mean absolute error\n",
    "    \"\"\"\n",
    "    # initialize error at 0\n",
    "    error = 0\n",
    "    # loop over all samples in the true and predicted list\n",
    "    for yt, yp in zip(y_true, y_pred):\n",
    "        # calculate absolute error\n",
    "        # and add to error\n",
    "        error += np.abs(yt - yp)\n",
    "    # return mean error\n",
    "    return error / len(y_true)"
   ]
  },
  {
   "cell_type": "markdown",
   "id": "806b0ca7",
   "metadata": {},
   "source": [
    "## Mean Squared Error (MSE)."
   ]
  },
  {
   "cell_type": "markdown",
   "id": "315ac99f",
   "metadata": {},
   "source": [
    "**Squared Error = ( True Value – Predicted Value )2**"
   ]
  },
  {
   "cell_type": "code",
   "execution_count": 3,
   "id": "efe6c140",
   "metadata": {},
   "outputs": [],
   "source": [
    "def mean_squared_error(y_true, y_pred):\n",
    "    \"\"\"\n",
    "    This function calculates mse\n",
    "    :param y_true: list of real numbers, true values\n",
    "    :param y_pred: list of real numbers, predicted values\n",
    "    :return: mean squared error\n",
    "    \"\"\"\n",
    "    # initialize error at 0\n",
    "    error = 0\n",
    "    # loop over all samples in the true and predicted list\n",
    "    for yt, yp in zip(y_true, y_pred):\n",
    "        # calculate squared error\n",
    "        # and add to error\n",
    "        error += (yt - yp) ** 2\n",
    "    # return mean error\n",
    "    return error / len(y_true)"
   ]
  },
  {
   "cell_type": "markdown",
   "id": "4685d0ce",
   "metadata": {},
   "source": [
    "## RMSE (root mean squared error)"
   ]
  },
  {
   "cell_type": "markdown",
   "id": "36f55181",
   "metadata": {},
   "source": [
    "**RMSE = SQRT ( MSE )**"
   ]
  },
  {
   "cell_type": "markdown",
   "id": "ed2f80af",
   "metadata": {},
   "source": [
    "## Squared Logarithmic Error"
   ]
  },
  {
   "cell_type": "markdown",
   "id": "7ccd3e91",
   "metadata": {},
   "source": [
    "When we take mean of this error across all samples, it is known as\n",
    "**MSLE (mean squared logarithmic error)** and implemented as follows"
   ]
  },
  {
   "cell_type": "code",
   "execution_count": 5,
   "id": "aedc29f4",
   "metadata": {},
   "outputs": [],
   "source": [
    "import numpy as np\n",
    "def mean_squared_log_error(y_true, y_pred):\n",
    "    \"\"\"\n",
    "    This function calculates msle\n",
    "    :param y_true: list of real numbers, true values\n",
    "    :param y_pred: list of real numbers, predicted values\n",
    "    :return: mean squared logarithmic error\n",
    "    \"\"\"\n",
    "    # initialize error at 0\n",
    "    error = 0\n",
    "    # loop over all samples in true and predicted list\n",
    "    for yt, yp in zip(y_true, y_pred):\n",
    "        # calculate squared log error\n",
    "        # and add to error\n",
    "        error += (np.log(1 + yt) - np.log(1 + yp)) ** 2\n",
    "        # return mean error\n",
    "    return error / len(y_true)"
   ]
  },
  {
   "cell_type": "markdown",
   "id": "0644ea6e",
   "metadata": {},
   "source": [
    "## Percentage Error"
   ]
  },
  {
   "cell_type": "markdown",
   "id": "754b21a3",
   "metadata": {},
   "source": [
    "**Percentage Error = ( ( True Value – Predicted Value ) / True Value ) * 100**"
   ]
  },
  {
   "cell_type": "code",
   "execution_count": 7,
   "id": "680e3305",
   "metadata": {},
   "outputs": [],
   "source": [
    "def mean_percentage_error(y_true, y_pred):\n",
    "    \"\"\"\n",
    "    This function calculates mpe\n",
    "    :param y_true: list of real numbers, true values\n",
    "    :param y_pred: list of real numbers, predicted values\n",
    "    :return: mean percentage error\n",
    "    \"\"\"\n",
    "    # initialize error at 0\n",
    "    error = 0\n",
    "    # loop over all samples in true and predicted list\n",
    "    for yt, yp in zip(y_true, y_pred):\n",
    "        # calculate percentage error\n",
    "        # and add to error\n",
    "        error += (yt - yp) / yt\n",
    "    # return mean percentage error\n",
    "    return error / len(y_true)"
   ]
  },
  {
   "cell_type": "markdown",
   "id": "8880629a",
   "metadata": {},
   "source": [
    "And an absolute version of the same (and more common version) is known as **mean\n",
    "absolute percentage error or MAPE.**"
   ]
  },
  {
   "cell_type": "code",
   "execution_count": 9,
   "id": "7e1d5fca",
   "metadata": {},
   "outputs": [],
   "source": [
    "import numpy as np\n",
    "def mean_abs_percentage_error(y_true, y_pred):\n",
    "    \"\"\"\n",
    "    This function calculates MAPE\n",
    "    :param y_true: list of real numbers, true values\n",
    "    :param y_pred: list of real numbers, predicted values\n",
    "    :return: mean absolute percentage error\n",
    "    \"\"\"\n",
    "    # initialize error at 0\n",
    "    error = 0\n",
    "    # loop over all samples in true and predicted list\n",
    "    for yt, yp in zip(y_true, y_pred):\n",
    "        # calculate percentage error\n",
    "        # and add to error\n",
    "        error += np.abs(yt - yp) / yt\n",
    "    # return mean percentage error\n",
    "    return error / len(y_true)"
   ]
  },
  {
   "cell_type": "markdown",
   "id": "5c0d8e41",
   "metadata": {},
   "source": [
    "The best thing about regression is that there are only a few most popular metrics\n",
    "that can be applied to almost every regression problem. And it is much easier to\n",
    "understand when we compare it to classification metrics."
   ]
  },
  {
   "cell_type": "markdown",
   "id": "99cfbdc8",
   "metadata": {},
   "source": [
    "## R2 (R-squared)"
   ]
  },
  {
   "cell_type": "markdown",
   "id": "d5951f2e",
   "metadata": {},
   "source": [
    "also known\n",
    "as the coefficient of determination."
   ]
  },
  {
   "cell_type": "markdown",
   "id": "2641a803",
   "metadata": {},
   "source": [
    "R-squared says how good your model fits the data. R-squared\n",
    "closer to 1.0 says that the model fits the data quite well, whereas closer 0 means\n",
    "that model isn’t that good. R-squared can also be negative when the model just\n",
    "makes absurd predictions."
   ]
  },
  {
   "cell_type": "markdown",
   "id": "7646a086",
   "metadata": {},
   "source": [
    "![R_squared](./images/r2.png)"
   ]
  },
  {
   "cell_type": "code",
   "execution_count": 15,
   "id": "e7c2980d",
   "metadata": {},
   "outputs": [],
   "source": [
    "import numpy as np\n",
    "def r2(y_true, y_pred):\n",
    "    \"\"\"\n",
    "    This function calculates r-squared score\n",
    "    :param y_true: list of real numbers, true values\n",
    "    :param y_pred: list of real numbers, predicted values\n",
    "    :return: r2 score\n",
    "    \"\"\"\n",
    "    # calculate the mean value of true values\n",
    "    mean_true_value = np.mean(y_true)\n",
    "    # initialize numerator with 0\n",
    "    numerator = 0\n",
    "    # initialize denominator with 0\n",
    "    denominator = 0\n",
    "    # loop over all true and predicted values\n",
    "    for yt, yp in zip(y_true, y_pred):\n",
    "        # update numerator\n",
    "        numerator += (yt - yp) ** 2\n",
    "        # update denominator\n",
    "        denominator += (yt - mean_true_value) ** 2\n",
    "    # calculate the ratio\n",
    "    ratio = numerator / denominator\n",
    "    # return 1 - ratio\n",
    "    return 1-ratio"
   ]
  },
  {
   "cell_type": "markdown",
   "id": "bd39e919",
   "metadata": {},
   "source": [
    "## Advanced Metrics"
   ]
  },
  {
   "cell_type": "markdown",
   "id": "23581aa3",
   "metadata": {},
   "source": [
    "### Quadratic weighted kappa"
   ]
  },
  {
   "cell_type": "markdown",
   "id": "ef38073c",
   "metadata": {},
   "source": [
    "also known\n",
    "as QWK. It is also known as Cohen’s kappa"
   ]
  },
  {
   "cell_type": "markdown",
   "id": "07584a29",
   "metadata": {},
   "source": [
    "So, it’s suitable for a classification problem with N\n",
    "different categories/classes. If the agreement is high, the score is closer towards 1.0.\n",
    "In the case of low agreement, the score is close to 0."
   ]
  },
  {
   "cell_type": "code",
   "execution_count": null,
   "id": "320bf8a3",
   "metadata": {},
   "outputs": [],
   "source": []
  }
 ],
 "metadata": {
  "kernelspec": {
   "display_name": "time_series",
   "language": "python",
   "name": "time_series"
  },
  "language_info": {
   "codemirror_mode": {
    "name": "ipython",
    "version": 3
   },
   "file_extension": ".py",
   "mimetype": "text/x-python",
   "name": "python",
   "nbconvert_exporter": "python",
   "pygments_lexer": "ipython3",
   "version": "3.8.5"
  }
 },
 "nbformat": 4,
 "nbformat_minor": 5
}
