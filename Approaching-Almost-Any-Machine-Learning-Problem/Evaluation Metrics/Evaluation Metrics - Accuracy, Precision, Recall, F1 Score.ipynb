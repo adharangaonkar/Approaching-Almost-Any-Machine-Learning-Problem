{
 "cells": [
  {
   "cell_type": "markdown",
   "id": "4c1b2c54",
   "metadata": {},
   "source": [
    "To learn more about the mentioned metrics, let’s start with a simple problem."
   ]
  },
  {
   "cell_type": "markdown",
   "id": "1e5943e8",
   "metadata": {},
   "source": [
    "Suppose we\n",
    "have a binary classification problem, i.e. a problem in which there are only two\n",
    "targets. Let’s suppose it’s a problem of classifying chest x-ray images. There are\n",
    "chest x-ray images with no problem, and some of the chest x-ray images have\n",
    "collapsed lung which is also known as pneumothorax. So, our task is to build a\n",
    "classifier that given a chest x-ray image can detect if it has pneumothorax."
   ]
  },
  {
   "cell_type": "markdown",
   "id": "bc2d2b68",
   "metadata": {},
   "source": [
    "We also assume that we have an equal number of pneumothorax and nonpneumothorax\n",
    "chest x-ray images; let’s say 100 each. Thus, we have 100 positive\n",
    "samples and 100 negative samples with a total of 200 images."
   ]
  },
  {
   "cell_type": "markdown",
   "id": "05f8c4d7",
   "metadata": {},
   "source": [
    "The first step is to divide the data described above into two equal sets of 100 images\n",
    "each, i.e. training and validation set. In both the sets, we have 50 positive and 50\n",
    "negative samples."
   ]
  },
  {
   "cell_type": "markdown",
   "id": "7a283c4e",
   "metadata": {},
   "source": [
    "***When we have an equal number of positive and negative samples in a binary\n",
    "classification metric, we generally use accuracy, precision, recall and f1.***"
   ]
  },
  {
   "cell_type": "markdown",
   "id": "6b08a31f",
   "metadata": {},
   "source": [
    "**Accuracy**: It is one of the most straightforward metrics used in machine learning.\n",
    "It defines how accurate your model is. For the problem described above, if you\n",
    "build a model that classifies 90 images accurately, your accuracy is 90% or 0.90. If\n",
    "only 83 images are classified correctly, the accuracy of your model is 83% or 0.83.\n",
    "Simple."
   ]
  },
  {
   "cell_type": "markdown",
   "id": "fd898bb0",
   "metadata": {},
   "source": [
    "Python code for calculating accuracy is also quite simple."
   ]
  },
  {
   "cell_type": "code",
   "execution_count": 5,
   "id": "24a7d0d6",
   "metadata": {},
   "outputs": [],
   "source": [
    "def accuracy(y_true, y_pred):\n",
    "    \"\"\"\n",
    "    Function to calculate accuracy\n",
    "    :param y_true: list of true values\n",
    "    :param y_pred: list of predicted values\n",
    "    :return: accuracy score\n",
    "    \"\"\"\n",
    "    # initialize a simple counter for correct predictions\n",
    "    correct_counter = 0\n",
    "    # loop over all elements of y_true\n",
    "    # and y_pred \"together\"\n",
    "    for yt, yp in zip(y_true, y_pred):\n",
    "        if yt == yp:\n",
    "        # if prediction is equal to truth, increase the counter\n",
    "            correct_counter += 1\n",
    "    # return accuracy\n",
    "    # which is correct predictions over the number of samples\n",
    "    return correct_counter / len(y_true)"
   ]
  },
  {
   "cell_type": "markdown",
   "id": "29eb7440",
   "metadata": {},
   "source": [
    "We can also calculate accuracy using scikit-learn."
   ]
  },
  {
   "cell_type": "code",
   "execution_count": 6,
   "id": "5189910c",
   "metadata": {},
   "outputs": [
    {
     "data": {
      "text/plain": [
       "0.625"
      ]
     },
     "execution_count": 6,
     "metadata": {},
     "output_type": "execute_result"
    }
   ],
   "source": [
    "from sklearn import metrics\n",
    "l1 = [0,1,1,1,0,0,0,1]\n",
    "l2 = [0,1,0,1,0,1,0,0]\n",
    "metrics.accuracy_score(l1, l2)"
   ]
  },
  {
   "cell_type": "markdown",
   "id": "1241ef73",
   "metadata": {},
   "source": [
    "Now, let’s say we change the dataset a bit such that there are 180 chest x-ray images\n",
    "which do not have pneumothorax and only 20 with pneumothorax. Even in this\n",
    "case, we will create the training and validation sets with the same ratio of positive\n",
    "to negative (pneumothorax to non- pneumothorax) targets. In each set, we have 90\n",
    "non- pneumothorax and 10 pneumothorax images. If you say that all images in the\n",
    "validation set are non-pneumothorax, what would your accuracy be? Let’s see; you\n",
    "classified 90% of the images correctly. So, your accuracy is 90%."
   ]
  },
  {
   "cell_type": "markdown",
   "id": "8765de56",
   "metadata": {},
   "source": [
    "But look at it one more time."
   ]
  },
  {
   "cell_type": "markdown",
   "id": "254f0927",
   "metadata": {},
   "source": [
    "You didn’t even build a model and got an accuracy of 90%. That seems kind of\n",
    "useless. If we look carefully, we will see that the dataset is skewed, i.e., the number\n",
    "of samples in one class outnumber the number of samples in other class by a lot. In\n",
    "these kinds of cases, it is not advisable to use accuracy as an evaluation metric as it\n",
    "is not representative of the data. So, you might get high accuracy, but your model\n",
    "will probably not perform that well when it comes to real-world samples, and you\n",
    "won’t be able to explain to your managers why."
   ]
  },
  {
   "cell_type": "markdown",
   "id": "27cf9bd5",
   "metadata": {},
   "source": [
    "In these cases, it’s better to look at other metrics such as **precision**."
   ]
  },
  {
   "cell_type": "markdown",
   "id": "d5e3715d",
   "metadata": {},
   "source": [
    "Before learning about precision, we need to know a few terms. Here we have\n",
    "assumed that chest x-ray images with pneumothorax are positive class (1) and\n",
    "without pneumothorax are negative class (0)."
   ]
  },
  {
   "cell_type": "markdown",
   "id": "6b7ba14f",
   "metadata": {},
   "source": [
    "**True positive (TP)**: Given an image, if your model predicts the image has\n",
    "pneumothorax, and the actual target for that image has pneumothorax, it is\n",
    "considered a true positive."
   ]
  },
  {
   "cell_type": "markdown",
   "id": "1027c671",
   "metadata": {},
   "source": [
    "**True negative (TN)**: Given an image, if your model predicts that the image does not\n",
    "have pneumothorax and the actual target says that it is a non-pneumothorax image,\n",
    "it is considered a true negative."
   ]
  },
  {
   "cell_type": "markdown",
   "id": "25f729aa",
   "metadata": {},
   "source": [
    "In simple words, **if your model correctly predicts positive class, it is true positive,\n",
    "and if your model accurately predicts negative class, it is a true negative**."
   ]
  },
  {
   "cell_type": "markdown",
   "id": "0e359091",
   "metadata": {},
   "source": [
    "**False positive (FP)**: Given an image, if your model predicts pneumothorax and the\n",
    "actual target for that image is non- pneumothorax, it a false positive."
   ]
  },
  {
   "cell_type": "markdown",
   "id": "d6eeed06",
   "metadata": {},
   "source": [
    "**False negative (FN)**: Given an image, if your model predicts non-pneumothorax\n",
    "and the actual target for that image is pneumothorax, it is a false negative."
   ]
  },
  {
   "cell_type": "markdown",
   "id": "a1836893",
   "metadata": {},
   "source": [
    "In simple words, **if your model incorrectly (or falsely) predicts positive class, it is\n",
    "a false positive. If your model incorrectly (or falsely) predicts negative class, it is a\n",
    "false negative**."
   ]
  },
  {
   "cell_type": "markdown",
   "id": "f29527dd",
   "metadata": {},
   "source": [
    "Let’s look at implementations of these, one at a time."
   ]
  },
  {
   "cell_type": "code",
   "execution_count": 8,
   "id": "2cda9263",
   "metadata": {},
   "outputs": [],
   "source": [
    "def true_positive(y_true, y_pred):\n",
    "    \"\"\"\n",
    "    Function to calculate True Positives\n",
    "    :param y_true: list of true values\n",
    "    :param y_pred: list of predicted values\n",
    "    :return: number of true positives\n",
    "    \"\"\"\n",
    "    # initialize\n",
    "    tp = 0\n",
    "    for yt, yp in zip(y_true, y_pred):\n",
    "        if yt == 1 and yp == 1:\n",
    "            tp += 1\n",
    "    return tp\n",
    "def true_negative(y_true, y_pred):\n",
    "    \"\"\"\n",
    "    Function to calculate True Negatives\n",
    "    :param y_true: list of true values\n",
    "    :param y_pred: list of predicted values\n",
    "    :return: number of true negatives\n",
    "    \"\"\"\n",
    "    # initialize\n",
    "    tn = 0\n",
    "    for yt, yp in zip(y_true, y_pred):\n",
    "        if yt == 0 and yp == 0:\n",
    "            tn += 1\n",
    "    return tn\n",
    "def false_positive(y_true, y_pred):\n",
    "    \"\"\"\n",
    "    Function to calculate False Positives\n",
    "    :param y_true: list of true values\n",
    "    :param y_pred: list of predicted values\n",
    "    :return: number of false positives\n",
    "    \"\"\"\n",
    "    # initialize\n",
    "    fp = 0\n",
    "    for yt, yp in zip(y_true, y_pred):\n",
    "        if yt == 0 and yp == 1:\n",
    "            fp += 1\n",
    "    return fp\n",
    "def false_negative(y_true, y_pred):\n",
    "    \"\"\"\n",
    "    Function to calculate False Negatives\n",
    "    :param y_true: list of true values\n",
    "    :param y_pred: list of predicted values\n",
    "    :return: number of false negatives\n",
    "    \"\"\"\n",
    "    # initialize\n",
    "    fn = 0\n",
    "    for yt, yp in zip(y_true, y_pred):\n",
    "        if yt == 1 and yp == 0:\n",
    "            fn += 1\n",
    "    return fn"
   ]
  },
  {
   "cell_type": "markdown",
   "id": "fd1dd8af",
   "metadata": {},
   "source": [
    "The way I have implemented these here is quite simple and works only for binary\n",
    "classification. Let’s check these functions."
   ]
  },
  {
   "cell_type": "code",
   "execution_count": 9,
   "id": "50efe78c",
   "metadata": {},
   "outputs": [],
   "source": [
    "l1 = [0,1,1,1,0,0,0,1]\n",
    "l2 = [0,1,0,1,0,1,0,0]"
   ]
  },
  {
   "cell_type": "code",
   "execution_count": 10,
   "id": "2b815525",
   "metadata": {},
   "outputs": [
    {
     "data": {
      "text/plain": [
       "2"
      ]
     },
     "execution_count": 10,
     "metadata": {},
     "output_type": "execute_result"
    }
   ],
   "source": [
    "true_positive(l1, l2)"
   ]
  },
  {
   "cell_type": "code",
   "execution_count": 11,
   "id": "c9ce6795",
   "metadata": {},
   "outputs": [
    {
     "data": {
      "text/plain": [
       "1"
      ]
     },
     "execution_count": 11,
     "metadata": {},
     "output_type": "execute_result"
    }
   ],
   "source": [
    "false_positive(l1, l2)"
   ]
  },
  {
   "cell_type": "code",
   "execution_count": 12,
   "id": "159ff458",
   "metadata": {},
   "outputs": [
    {
     "data": {
      "text/plain": [
       "2"
      ]
     },
     "execution_count": 12,
     "metadata": {},
     "output_type": "execute_result"
    }
   ],
   "source": [
    "false_negative(l1, l2)"
   ]
  },
  {
   "cell_type": "code",
   "execution_count": 13,
   "id": "75b00d81",
   "metadata": {},
   "outputs": [
    {
     "data": {
      "text/plain": [
       "3"
      ]
     },
     "execution_count": 13,
     "metadata": {},
     "output_type": "execute_result"
    }
   ],
   "source": [
    "true_negative(l1, l2)"
   ]
  },
  {
   "cell_type": "markdown",
   "id": "4b6423f5",
   "metadata": {},
   "source": [
    "Accuracy Score = (TP + TN) / (TP + TN + FP + FN)"
   ]
  },
  {
   "cell_type": "markdown",
   "id": "c250bb18",
   "metadata": {},
   "source": [
    "We can now quickly implement accuracy score using TP, TN, FP and FN in python.\n",
    "Let’s call it accuracy_v2."
   ]
  },
  {
   "cell_type": "code",
   "execution_count": 15,
   "id": "5b10269c",
   "metadata": {},
   "outputs": [],
   "source": [
    "def accuracy_v2(y_true, y_pred):\n",
    "    \"\"\"\n",
    "    Function to calculate accuracy using tp/tn/fp/fn\n",
    "    :param y_true: list of true values\n",
    "    :param y_pred: list of predicted values\n",
    "    :return: accuracy score\n",
    "    \"\"\"\n",
    "    tp = true_positive(y_true, y_pred)\n",
    "    fp = false_positive(y_true, y_pred)\n",
    "    fn = false_negative(y_true, y_pred)\n",
    "    tn = true_negative(y_true, y_pred)\n",
    "    accuracy_score = (tp + tn) / (tp + tn + fp + fn)\n",
    "    return accuracy_score"
   ]
  },
  {
   "cell_type": "code",
   "execution_count": 16,
   "id": "9baacffb",
   "metadata": {},
   "outputs": [],
   "source": [
    "l1 = [0,1,1,1,0,0,0,1]\n",
    "l2 = [0,1,0,1,0,1,0,0]"
   ]
  },
  {
   "cell_type": "code",
   "execution_count": 17,
   "id": "a8eb3ac7",
   "metadata": {},
   "outputs": [
    {
     "data": {
      "text/plain": [
       "0.625"
      ]
     },
     "execution_count": 17,
     "metadata": {},
     "output_type": "execute_result"
    }
   ],
   "source": [
    "accuracy(l1, l2)"
   ]
  },
  {
   "cell_type": "code",
   "execution_count": 18,
   "id": "e553fc0f",
   "metadata": {},
   "outputs": [
    {
     "data": {
      "text/plain": [
       "0.625"
      ]
     },
     "execution_count": 18,
     "metadata": {},
     "output_type": "execute_result"
    }
   ],
   "source": [
    "accuracy_v2(l1, l2)"
   ]
  },
  {
   "cell_type": "code",
   "execution_count": 19,
   "id": "d0b65b96",
   "metadata": {},
   "outputs": [
    {
     "data": {
      "text/plain": [
       "0.625"
      ]
     },
     "execution_count": 19,
     "metadata": {},
     "output_type": "execute_result"
    }
   ],
   "source": [
    "metrics.accuracy_score(l1, l2)"
   ]
  },
  {
   "cell_type": "markdown",
   "id": "de04f2b5",
   "metadata": {},
   "source": [
    "### Precision"
   ]
  },
  {
   "cell_type": "markdown",
   "id": "27e2c5c1",
   "metadata": {},
   "source": [
    "***Precision = TP / (TP + FP)***"
   ]
  },
  {
   "cell_type": "markdown",
   "id": "be7e73ba",
   "metadata": {},
   "source": [
    "Let’s say we make a new model on the new skewed dataset and our model correctly\n",
    "identified 80 non-pneumothorax out of 90 and 8 pneumothorax out of 10. Thus, we\n",
    "identify 88 images out of 100 successfully. The accuracy is, therefore, 0.88 or 88%.\n"
   ]
  },
  {
   "cell_type": "markdown",
   "id": "f9c6751b",
   "metadata": {},
   "source": [
    "But, out of these 100 samples, 10 non-pneumothorax images are misclassified as\n",
    "having pneumothorax and 2 pneumothorax are misclassified as not having\n",
    "pneumothorax.\n",
    "Thus, we have:\n"
   ]
  },
  {
   "cell_type": "markdown",
   "id": "b6bd6eef",
   "metadata": {},
   "source": [
    "- TP : 8\n",
    "- TN: 80\n",
    "- FP: 10\n",
    "- FN: 2"
   ]
  },
  {
   "cell_type": "code",
   "execution_count": 20,
   "id": "1f0e3aed",
   "metadata": {},
   "outputs": [],
   "source": [
    "def precision(y_true, y_pred):\n",
    "    \"\"\"\n",
    "    Function to calculate precision\n",
    "    :param y_true: list of true values\n",
    "    :param y_pred: list of predicted values\n",
    "    :return: precision score\n",
    "    \"\"\"\n",
    "    tp = true_positive(y_true, y_pred)\n",
    "    fp = false_positive(y_true, y_pred)\n",
    "    precision = tp / (tp + fp)\n",
    "    return precision"
   ]
  },
  {
   "cell_type": "markdown",
   "id": "54c6fb96",
   "metadata": {},
   "source": [
    "Let’s try this implementation of precision."
   ]
  },
  {
   "cell_type": "code",
   "execution_count": 21,
   "id": "7b501d1b",
   "metadata": {},
   "outputs": [],
   "source": [
    "l1 = [0,1,1,1,0,0,0,1]\n",
    "l2 = [0,1,0,1,0,1,0,0]"
   ]
  },
  {
   "cell_type": "code",
   "execution_count": 22,
   "id": "b580f9c4",
   "metadata": {},
   "outputs": [
    {
     "data": {
      "text/plain": [
       "0.6666666666666666"
      ]
     },
     "execution_count": 22,
     "metadata": {},
     "output_type": "execute_result"
    }
   ],
   "source": [
    "precision(l1,l2)"
   ]
  },
  {
   "cell_type": "markdown",
   "id": "27e88e99",
   "metadata": {},
   "source": [
    "### Recall"
   ]
  },
  {
   "cell_type": "markdown",
   "id": "bae17e66",
   "metadata": {},
   "source": [
    "***Recall = TP / (TP + FN)***"
   ]
  },
  {
   "cell_type": "code",
   "execution_count": 23,
   "id": "92c09875",
   "metadata": {},
   "outputs": [],
   "source": [
    "def recall(y_true, y_pred):\n",
    "    \"\"\"\n",
    "    Function to calculate recall\n",
    "    :param y_true: list of true values\n",
    "    :param y_pred: list of predicted values\n",
    "    :return: recall score\n",
    "    \"\"\"\n",
    "    tp = true_positive(y_true, y_pred)\n",
    "    fn = false_negative(y_true, y_pred)\n",
    "    recall = tp / (tp + fn)\n",
    "    return recall"
   ]
  },
  {
   "cell_type": "code",
   "execution_count": 24,
   "id": "12341e22",
   "metadata": {},
   "outputs": [],
   "source": [
    "l1 = [0,1,1,1,0,0,0,1]\n",
    "l2 = [0,1,0,1,0,1,0,0]"
   ]
  },
  {
   "cell_type": "code",
   "execution_count": 25,
   "id": "472e3db2",
   "metadata": {},
   "outputs": [
    {
     "data": {
      "text/plain": [
       "0.5"
      ]
     },
     "execution_count": 25,
     "metadata": {},
     "output_type": "execute_result"
    }
   ],
   "source": [
    "recall(l1, l2)"
   ]
  },
  {
   "cell_type": "markdown",
   "id": "52bf9394",
   "metadata": {},
   "source": [
    "**For a “good” model, our precision and recall values should be high.**"
   ]
  },
  {
   "cell_type": "markdown",
   "id": "9fed943b",
   "metadata": {},
   "source": [
    "We see that in\n",
    "the above example, the recall value is quite high. However, precision is very low!\n",
    "Our model produces quite a lot of false positives but less false negatives. Fewer\n",
    "false negatives are good in this type of problem because you don’t want to say that patients do not have pneumothorax when they do. That is going to be more harmful.\n",
    "But we do have a lot of false positives, and that’s not good either."
   ]
  },
  {
   "cell_type": "markdown",
   "id": "52704b6c",
   "metadata": {},
   "source": [
    "Most of the models predict a probability, and when we predict, we usually choose\n",
    "this threshold to be 0.5. This threshold is not always ideal, and depending on this\n",
    "threshold, your value of precision and recall can change drastically. If for every\n",
    "threshold we choose, we calculate the precision and recall values, we can create a\n",
    "plot between these sets of values. This plot or curve is known as the precision-recall\n",
    "curve."
   ]
  },
  {
   "cell_type": "markdown",
   "id": "67969b66",
   "metadata": {},
   "source": [
    "Before looking into the precision-recall curve, let’s assume two lists."
   ]
  },
  {
   "cell_type": "code",
   "execution_count": 27,
   "id": "74ea8f2f",
   "metadata": {},
   "outputs": [],
   "source": [
    "y_true = [0, 0, 0, 1, 0, 0, 0, 0, 0, 0, 1, 0, 0, 0, 0, 0, 0, 0, 1, 0]"
   ]
  },
  {
   "cell_type": "code",
   "execution_count": 28,
   "id": "ea41500e",
   "metadata": {},
   "outputs": [],
   "source": [
    "y_pred = [0.02638412, 0.11114267, 0.31620708, 0.0490937, 0.0191491, 0.17554844,\n",
    "0.15952202, 0.03819563, 0.11639273,\n",
    "0.079377, 0.08584789, 0.39095342,\n",
    "0.27259048, 0.03447096, 0.04644807,\n",
    "0.03543574, 0.18521942, 0.05934905,\n",
    "0.61977213, 0.33056815]"
   ]
  },
  {
   "cell_type": "markdown",
   "id": "e8e88de1",
   "metadata": {},
   "source": [
    "So, y_true is our targets, and y_pred is the probability values for a sample being\n",
    "assigned a value of 1. So, now, we look at probabilities in prediction instead of the\n",
    "predicted value (which is most of the time calculated with a threshold at 0.5)."
   ]
  },
  {
   "cell_type": "code",
   "execution_count": 30,
   "id": "f40a446b",
   "metadata": {},
   "outputs": [],
   "source": [
    "precisions = []\n",
    "recalls = []\n",
    "# how we assumed these thresholds is a long story\n",
    "thresholds = [0.0490937 , 0.05934905, 0.079377,\n",
    "0.08584789, 0.11114267, 0.11639273,\n",
    "0.15952202, 0.17554844, 0.18521942,\n",
    "0.27259048, 0.31620708, 0.33056815,\n",
    "0.39095342, 0.61977213]\n",
    "# for every threshold, calculate predictions in binary\n",
    "# and append calculated precisions and recalls\n",
    "# to their respective lists\n",
    "for i in thresholds:\n",
    "    temp_prediction = [1 if x >= i else 0 for x in y_pred]\n",
    "    p = precision(y_true, temp_prediction)\n",
    "    r = recall(y_true, temp_prediction)\n",
    "    precisions.append(p)\n",
    "    recalls.append(r)"
   ]
  },
  {
   "cell_type": "code",
   "execution_count": 31,
   "id": "05c06859",
   "metadata": {},
   "outputs": [
    {
     "data": {
      "text/plain": [
       "[0, 0, 0, 0, 0, 0, 0, 0, 0, 0, 0, 0, 0, 0, 0, 0, 0, 0, 1, 0]"
      ]
     },
     "execution_count": 31,
     "metadata": {},
     "output_type": "execute_result"
    }
   ],
   "source": [
    "temp_prediction"
   ]
  },
  {
   "cell_type": "markdown",
   "id": "3d7ac7f3",
   "metadata": {},
   "source": [
    "Now, we can plot these values of precisions and recalls."
   ]
  },
  {
   "cell_type": "code",
   "execution_count": 35,
   "id": "af824296",
   "metadata": {},
   "outputs": [],
   "source": [
    "import matplotlib.pyplot as plt"
   ]
  },
  {
   "cell_type": "code",
   "execution_count": 36,
   "id": "d5066638",
   "metadata": {},
   "outputs": [
    {
     "data": {
      "text/plain": [
       "Text(0, 0.5, 'Precision')"
      ]
     },
     "execution_count": 36,
     "metadata": {},
     "output_type": "execute_result"
    },
    {
     "data": {
      "image/png": "[encoded data removed]",
      "text/plain": [
       "<Figure size 504x504 with 1 Axes>"
      ]
     },
     "metadata": {
      "needs_background": "light"
     },
     "output_type": "display_data"
    }
   ],
   "source": [
    "plt.figure(figsize=(7, 7))\n",
    "plt.plot(recalls, precisions)\n",
    "plt.xlabel('Recall', fontsize=15)\n",
    "plt.ylabel('Precision', fontsize=15)"
   ]
  },
  {
   "cell_type": "markdown",
   "id": "246aed8e",
   "metadata": {},
   "source": [
    "You will notice that *it’s challenging to choose a value of threshold that gives both\n",
    "good precision and recall values*. If the threshold is too high, you have a smaller\n",
    "number of true positives and a high number of false negatives. This decreases your\n",
    "recall; howeverm, your precision score will be high. If you reduce the threshold too\n",
    "low, false positives will increase a lot, and precision will be less."
   ]
  },
  {
   "cell_type": "markdown",
   "id": "7514e511",
   "metadata": {},
   "source": [
    "**Both precision and recall range from 0 to 1 and a value closer to 1 is better.**"
   ]
  },
  {
   "cell_type": "markdown",
   "id": "fc641558",
   "metadata": {},
   "source": [
    "### F1 score"
   ]
  },
  {
   "cell_type": "markdown",
   "id": "fb83e389",
   "metadata": {},
   "source": [
    "F1 score is a metric that combines both precision and recall. It is defined as a simple\n",
    "weighted average **(harmonic mean)** of precision and recall. If we denote precision\n",
    "using P and recall using R, we can represent the F1 score as:"
   ]
  },
  {
   "cell_type": "markdown",
   "id": "27865cf9",
   "metadata": {},
   "source": [
    "**F1 = 2PR / (P + R)**"
   ]
  },
  {
   "cell_type": "markdown",
   "id": "778b9406",
   "metadata": {},
   "source": [
    "A little bit of mathematics will lead you to the following equation of F1 based on\n",
    "TP, FP and FN"
   ]
  },
  {
   "cell_type": "markdown",
   "id": "35be7964",
   "metadata": {},
   "source": [
    "A Python implementation is simple because we have already implemented these."
   ]
  },
  {
   "cell_type": "code",
   "execution_count": 37,
   "id": "ce18c078",
   "metadata": {},
   "outputs": [],
   "source": [
    "def f1(y_true, y_pred):\n",
    "    \"\"\"\n",
    "    Function to calculate f1 score\n",
    "    :param y_true: list of true values\n",
    "    :param y_pred: list of predicted values\n",
    "    :return: f1 score\n",
    "    \"\"\"\n",
    "    p = precision(y_true, y_pred)\n",
    "    r = recall(y_true, y_pred)\n",
    "    score = 2 * p * r / (p + r)\n",
    "    return score"
   ]
  },
  {
   "cell_type": "markdown",
   "id": "ada28b02",
   "metadata": {},
   "source": [
    "Let’s see the results of this and compare it with scikit-learn."
   ]
  },
  {
   "cell_type": "code",
   "execution_count": 38,
   "id": "df365c2e",
   "metadata": {},
   "outputs": [],
   "source": [
    "y_true = [0, 0, 0, 1, 0, 0, 0, 0, 0, 0, 1, 0, 0, 0, 0, 0, 0, 0, 1, 0]"
   ]
  },
  {
   "cell_type": "code",
   "execution_count": 39,
   "id": "1ec5219e",
   "metadata": {},
   "outputs": [],
   "source": [
    "y_pred = [0, 0, 1, 0, 0, 0, 1, 0, 0, 0, 1, 0, 0, 0, 0, 0, 0, 0, 1, 0]"
   ]
  },
  {
   "cell_type": "code",
   "execution_count": 40,
   "id": "f471bde7",
   "metadata": {},
   "outputs": [
    {
     "data": {
      "text/plain": [
       "0.5714285714285715"
      ]
     },
     "execution_count": 40,
     "metadata": {},
     "output_type": "execute_result"
    }
   ],
   "source": [
    "f1(y_true, y_pred)"
   ]
  },
  {
   "cell_type": "code",
   "execution_count": 41,
   "id": "40d3d804",
   "metadata": {},
   "outputs": [
    {
     "data": {
      "text/plain": [
       "0.5714285714285715"
      ]
     },
     "execution_count": 41,
     "metadata": {},
     "output_type": "execute_result"
    }
   ],
   "source": [
    "metrics.f1_score(y_true, y_pred)"
   ]
  },
  {
   "cell_type": "markdown",
   "id": "cd63c1f3",
   "metadata": {},
   "source": [
    "Instead of looking at precision and recall individually, you can also just look at F1\n",
    "score. Same as for precision, recall and accuracy, **F1 score also ranges from 0 to 1**,\n",
    "and a **perfect prediction model has an F1 of 1**. When dealing with datasets that have\n",
    "skewed targets, we should look at F1 (or precision and recall) instead of accuracy."
   ]
  }
 ],
 "metadata": {
  "kernelspec": {
   "display_name": "time_series",
   "language": "python",
   "name": "time_series"
  },
  "language_info": {
   "codemirror_mode": {
    "name": "ipython",
    "version": 3
   },
   "file_extension": ".py",
   "mimetype": "text/x-python",
   "name": "python",
   "nbconvert_exporter": "python",
   "pygments_lexer": "ipython3",
   "version": "3.8.5"
  }
 },
 "nbformat": 4,
 "nbformat_minor": 5
}
