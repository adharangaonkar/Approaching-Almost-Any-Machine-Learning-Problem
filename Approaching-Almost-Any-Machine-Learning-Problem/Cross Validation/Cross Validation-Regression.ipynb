{
 "cells": [
  {
   "cell_type": "markdown",
   "id": "impaired-booking",
   "metadata": {},
   "source": [
    "The good thing about regression problems is that\n",
    "we can use all the cross-validation techniques mentioned for regression\n",
    "problems **except for stratified k-fold**."
   ]
  },
  {
   "cell_type": "markdown",
   "id": "democratic-polyester",
   "metadata": {},
   "source": [
    "That is we cannot use stratified k-fold directly,\n",
    "but there are ways to change the problem a bit so that we can use stratified k-fold\n",
    "for regression problems."
   ]
  },
  {
   "cell_type": "markdown",
   "id": "medical-turkish",
   "metadata": {},
   "source": [
    "Mostly, simple k-fold cross-validation works for any\n",
    "regression problem. However, if you see that the distribution of targets is not\n",
    "consistent, you can use stratified k-fold."
   ]
  },
  {
   "cell_type": "markdown",
   "id": "hungarian-adaptation",
   "metadata": {},
   "source": [
    "To use **stratified k-fold for a regression problem**, we have first to divide the target\n",
    "into bins, and then we can use stratified k-fold in the same way as for classification\n",
    "problems. There are several choices for selecting the appropriate number of bins. If\n",
    "you have a lot of samples( > 10k, > 100k), then you don’t need to care about the\n",
    "number of bins. Just divide the data into 10 or 20 bins. If you do not have a lot of\n",
    "samples, you can use a simple rule like **Sturge’s Rule** to calculate the appropriate\n",
    "number of bins."
   ]
  },
  {
   "cell_type": "markdown",
   "id": "popular-nashville",
   "metadata": {},
   "source": [
    "**Sturge's Rule:**"
   ]
  },
  {
   "cell_type": "markdown",
   "id": "agreed-fever",
   "metadata": {},
   "source": [
    "Number of Bins = 1 + log2(N) <br>\n",
    "\n",
    "Where N is the number of samples you have in your dataset."
   ]
  },
  {
   "cell_type": "markdown",
   "id": "incorporated-nation",
   "metadata": {},
   "source": [
    "![Image](images/sturges.png)"
   ]
  },
  {
   "cell_type": "markdown",
   "id": "atmospheric-darkness",
   "metadata": {},
   "source": [
    "Let’s make a sample regression dataset and try to apply stratified k-fold as shown\n",
    "in the following python snippet."
   ]
  },
  {
   "cell_type": "code",
   "execution_count": 5,
   "id": "historic-dressing",
   "metadata": {},
   "outputs": [],
   "source": [
    "import numpy as np\n",
    "import pandas as pd\n",
    "from sklearn import datasets\n",
    "from sklearn import model_selection\n",
    "\n",
    "\n",
    "def create_folds(data):\n",
    "    # we create a new column called kfold and fill it with -1\n",
    "    data[\"kfold\"] = -1\n",
    "    # the next step is to randomize the rows of the data\n",
    "    data = data.sample(frac=1).reset_index(drop=True)\n",
    "    # calculate the number of bins by Sturge's rule\n",
    "    # I take the floor of the value, you can also\n",
    "    # just round it\n",
    "    num_bins = int(np.floor(1 + np.log2(len(data))))\n",
    "    # bin targets\n",
    "    data.loc[:, \"bins\"] = pd.cut(\n",
    "    data[\"target\"], bins=num_bins, labels=False\n",
    "    )\n",
    "    # initiate the kfold class from model_selection module\n",
    "    kf = model_selection.StratifiedKFold(n_splits=5)\n",
    "    # fill the new kfold column\n",
    "    # note that, instead of targets, we use bins!\n",
    "    for f, (t_, v_) in enumerate(kf.split(X=data, y=data.bins.values)):\n",
    "        data.loc[v_, 'kfold'] = f\n",
    "    # drop the bins column\n",
    "    data = data.drop(\"bins\", axis=1)\n",
    "    # return dataframe with folds\n",
    "    return data\n",
    "if __name__ == \"__main__\":\n",
    "    # we create a sample dataset with 15000 samples\n",
    "    # and 100 features and 1 target\n",
    "    X, y = datasets.make_regression(\n",
    "    n_samples=15000, n_features=100, n_targets=1\n",
    "    )\n",
    "    # create a dataframe out of our numpy arrays\n",
    "    df = pd.DataFrame(\n",
    "    X,\n",
    "    columns=[f\"f_{i}\" for i in range(X.shape[1])]\n",
    "    )\n",
    "    df.loc[:, \"target\"] = y\n",
    "    # create folds\n",
    "    df = create_folds(df)"
   ]
  },
  {
   "cell_type": "code",
   "execution_count": null,
   "id": "graphic-upper",
   "metadata": {},
   "outputs": [],
   "source": []
  }
 ],
 "metadata": {
  "kernelspec": {
   "display_name": "its",
   "language": "python",
   "name": "its"
  },
  "language_info": {
   "codemirror_mode": {
    "name": "ipython",
    "version": 3
   },
   "file_extension": ".py",
   "mimetype": "text/x-python",
   "name": "python",
   "nbconvert_exporter": "python",
   "pygments_lexer": "ipython3",
   "version": "3.8.5"
  }
 },
 "nbformat": 4,
 "nbformat_minor": 5
}
