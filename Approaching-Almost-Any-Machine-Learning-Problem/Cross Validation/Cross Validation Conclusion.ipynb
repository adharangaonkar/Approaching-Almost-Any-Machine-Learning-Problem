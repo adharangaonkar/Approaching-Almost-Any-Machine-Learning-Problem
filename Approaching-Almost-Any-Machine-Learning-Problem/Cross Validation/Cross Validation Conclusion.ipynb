{
 "cells": [
  {
   "cell_type": "markdown",
   "id": "intimate-tuner",
   "metadata": {},
   "source": [
    "Cross-validation is the first and most essential step when it comes to building\n",
    "machine learning models. If you want to do feature engineering, split your data first.\n",
    "If you're going to build models, split your data first. If you have a good crossvalidation\n",
    "scheme in which validation data is representative of training and realworld\n",
    "data, you will be able to build a good machine learning model which is highly\n",
    "generalizable.<br>\n",
    "\n",
    "\n",
    "The types of cross-validation presented in this chapter can be applied to almost any\n",
    "machine learning problem. Still, you must keep in mind that cross-validation also\n",
    "depends a lot on the data and you might need to adopt new forms of cross-validation\n",
    "depending on your problem and data.<br>\n",
    "\n",
    "\n",
    "For example, let’s say we have a problem in which we would like to build a model\n",
    "to detect skin cancer from skin images of patients. Our task is to build a binary\n",
    "classifier which takes an input image and predicts the probability for it being benign\n",
    "or malignant.<br>\n",
    "\n",
    "\n",
    "In these kinds of datasets, you might have multiple images for the same patient in\n",
    "the training dataset. So, to build a good cross-validation system here, you must have\n",
    "stratified k-folds, but you must also make sure that patients in training data do not\n",
    "appear in validation data. Fortunately, scikit-learn offers a type of cross-validation\n",
    "known as ***GroupKFold***. Here the patients can be considered as groups. But\n",
    "unfortunately, there is no way to combine ***GroupKFold*** with ***StratifiedKFold*** in\n",
    "scikit-learn. So you need to do that yourself. I’ll leave it as an exercise for the\n",
    "reader."
   ]
  },
  {
   "cell_type": "code",
   "execution_count": null,
   "id": "sitting-spouse",
   "metadata": {},
   "outputs": [],
   "source": []
  }
 ],
 "metadata": {
  "kernelspec": {
   "display_name": "its",
   "language": "python",
   "name": "its"
  },
  "language_info": {
   "codemirror_mode": {
    "name": "ipython",
    "version": 3
   },
   "file_extension": ".py",
   "mimetype": "text/x-python",
   "name": "python",
   "nbconvert_exporter": "python",
   "pygments_lexer": "ipython3",
   "version": "3.8.5"
  }
 },
 "nbformat": 4,
 "nbformat_minor": 5
}
