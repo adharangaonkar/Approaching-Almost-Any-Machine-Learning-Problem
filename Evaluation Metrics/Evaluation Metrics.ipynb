{
 "cells": [
  {
   "cell_type": "markdown",
   "id": "2ba5c6f0",
   "metadata": {},
   "source": [
    "## Evaluation metrics"
   ]
  },
  {
   "cell_type": "markdown",
   "id": "df3c2ce5",
   "metadata": {},
   "source": [
    "When it comes to machine learning problems, you will encounter a lot of different\n",
    "types of metrics in the real world. Sometimes, people even end up creating metrics\n",
    "that suit the business problem. It’s out of the scope of this book to introduce and\n",
    "explain each and every type of metric. Instead, we will see some of the most\n",
    "common metrics that you can use when starting with your very first few projects."
   ]
  },
  {
   "cell_type": "markdown",
   "id": "62790892",
   "metadata": {},
   "source": [
    "At the start of the book, we introduced supervised and unsupervised learning.\n",
    "Although there are some kinds of metrics that you can use for unsupervised\n",
    "learning, we will only focus on supervised. The reason for this is because supervised\n",
    "problems are in abundance compared to un-supervised, and evaluation of\n",
    "unsupervised methods is quite subjective."
   ]
  },
  {
   "cell_type": "markdown",
   "id": "885549ea",
   "metadata": {},
   "source": [
    "**If we talk about classification problems, the most common metrics used are:**"
   ]
  },
  {
   "cell_type": "markdown",
   "id": "0a4c0073",
   "metadata": {},
   "source": [
    "- Accuracy\n",
    "- Precision (P)\n",
    "- Recall (R)\n",
    "- F1 score (F1)\n",
    "- Area under the ROC (Receiver Operating Characteristic) curve or simply\n",
    "AUC (AUC)\n",
    "- Log loss\n",
    "- Precision at k (P@k)\n",
    "- Average precision at k (AP@k)\n",
    "- Mean average precision at k (MAP@k)"
   ]
  },
  {
   "cell_type": "markdown",
   "id": "81bed2eb",
   "metadata": {},
   "source": [
    "**When it comes to regression, the most commonly used evaluation metrics are:**"
   ]
  },
  {
   "cell_type": "markdown",
   "id": "bf78a056",
   "metadata": {},
   "source": [
    "- Mean absolute error (MAE)\n",
    "- Mean squared error (MSE)\n",
    "- Root mean squared error (RMSE)\n",
    "- Root mean squared logarithmic error (RMSLE)\n",
    "- Mean percentage error (MPE)\n",
    "- Mean absolute percentage error (MAPE)\n",
    "- R2"
   ]
  },
  {
   "cell_type": "markdown",
   "id": "20a05faf",
   "metadata": {},
   "source": [
    "Knowing about how the aforementioned metrics work is not the only thing we have\n",
    "to understand. We must also know when to use which metrics, and that depends on what kind of data and targets you have. I think it’s more about the targets and less\n",
    "about the data."
   ]
  },
  {
   "cell_type": "code",
   "execution_count": null,
   "id": "e7c62133",
   "metadata": {},
   "outputs": [],
   "source": []
  }
 ],
 "metadata": {
  "kernelspec": {
   "display_name": "time_series",
   "language": "python",
   "name": "time_series"
  },
  "language_info": {
   "codemirror_mode": {
    "name": "ipython",
    "version": 3
   },
   "file_extension": ".py",
   "mimetype": "text/x-python",
   "name": "python",
   "nbconvert_exporter": "python",
   "pygments_lexer": "ipython3",
   "version": "3.8.5"
  }
 },
 "nbformat": 4,
 "nbformat_minor": 5
}
