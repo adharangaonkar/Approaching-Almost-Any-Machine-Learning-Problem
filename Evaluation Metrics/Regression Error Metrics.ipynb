{
 "cells": [
  {
   "cell_type": "markdown",
   "id": "f5c1f135",
   "metadata": {},
   "source": [
    "## Error"
   ]
  },
  {
   "cell_type": "markdown",
   "id": "aee68568",
   "metadata": {},
   "source": [
    "The most common metric in regression is error. **Error** is simple and very easy to\n",
    "understand.\n"
   ]
  },
  {
   "cell_type": "markdown",
   "id": "def2be6d",
   "metadata": {},
   "source": [
    "**Error = True Value – Predicted Value**"
   ]
  },
  {
   "cell_type": "markdown",
   "id": "a765aaba",
   "metadata": {},
   "source": [
    "### Absolute error"
   ]
  },
  {
   "cell_type": "markdown",
   "id": "494c464d",
   "metadata": {},
   "source": [
    "Absolute error is just absolute of the above."
   ]
  },
  {
   "cell_type": "markdown",
   "id": "1b65c355",
   "metadata": {},
   "source": [
    "**Absolute Error = Abs ( True Value – Predicted Value )**"
   ]
  },
  {
   "cell_type": "markdown",
   "id": "3f7321f2",
   "metadata": {},
   "source": [
    "## Mean Absolute Error (MAE)"
   ]
  },
  {
   "cell_type": "markdown",
   "id": "7723845b",
   "metadata": {},
   "source": [
    "It’s just mean of all absolute errors."
   ]
  },
  {
   "cell_type": "code",
   "execution_count": 1,
   "id": "35531260",
   "metadata": {},
   "outputs": [],
   "source": [
    "import numpy as np\n",
    "def mean_absolute_error(y_true, y_pred):\n",
    "    \"\"\"\n",
    "    This function calculates mae\n",
    "    :param y_true: list of real numbers, true values\n",
    "    :param y_pred: list of real numbers, predicted values\n",
    "    :return: mean absolute error\n",
    "    \"\"\"\n",
    "    # initialize error at 0\n",
    "    error = 0\n",
    "    # loop over all samples in the true and predicted list\n",
    "    for yt, yp in zip(y_true, y_pred):\n",
    "        # calculate absolute error\n",
    "        # and add to error\n",
    "        error += np.abs(yt - yp)\n",
    "    # return mean error\n",
    "    return error / len(y_true)"
   ]
  },
  {
   "cell_type": "markdown",
   "id": "1604b86a",
   "metadata": {},
   "source": [
    "## Mean Squared Error (MSE)."
   ]
  },
  {
   "cell_type": "markdown",
   "id": "b2894125",
   "metadata": {},
   "source": [
    "**Squared Error = ( True Value – Predicted Value )2**"
   ]
  },
  {
   "cell_type": "code",
   "execution_count": 3,
   "id": "56e97384",
   "metadata": {},
   "outputs": [],
   "source": [
    "def mean_squared_error(y_true, y_pred):\n",
    "    \"\"\"\n",
    "    This function calculates mse\n",
    "    :param y_true: list of real numbers, true values\n",
    "    :param y_pred: list of real numbers, predicted values\n",
    "    :return: mean squared error\n",
    "    \"\"\"\n",
    "    # initialize error at 0\n",
    "    error = 0\n",
    "    # loop over all samples in the true and predicted list\n",
    "    for yt, yp in zip(y_true, y_pred):\n",
    "        # calculate squared error\n",
    "        # and add to error\n",
    "        error += (yt - yp) ** 2\n",
    "    # return mean error\n",
    "    return error / len(y_true)"
   ]
  },
  {
   "cell_type": "markdown",
   "id": "7de0eb45",
   "metadata": {},
   "source": [
    "## RMSE (root mean squared error)"
   ]
  },
  {
   "cell_type": "markdown",
   "id": "1c39625a",
   "metadata": {},
   "source": [
    "**RMSE = SQRT ( MSE )**"
   ]
  },
  {
   "cell_type": "markdown",
   "id": "815db540",
   "metadata": {},
   "source": [
    "## Squared Logarithmic Error"
   ]
  },
  {
   "cell_type": "markdown",
   "id": "e085180b",
   "metadata": {},
   "source": [
    "When we take mean of this error across all samples, it is known as\n",
    "**MSLE (mean squared logarithmic error)** and implemented as follows"
   ]
  },
  {
   "cell_type": "code",
   "execution_count": 5,
   "id": "c5e68695",
   "metadata": {},
   "outputs": [],
   "source": [
    "import numpy as np\n",
    "def mean_squared_log_error(y_true, y_pred):\n",
    "    \"\"\"\n",
    "    This function calculates msle\n",
    "    :param y_true: list of real numbers, true values\n",
    "    :param y_pred: list of real numbers, predicted values\n",
    "    :return: mean squared logarithmic error\n",
    "    \"\"\"\n",
    "    # initialize error at 0\n",
    "    error = 0\n",
    "    # loop over all samples in true and predicted list\n",
    "    for yt, yp in zip(y_true, y_pred):\n",
    "        # calculate squared log error\n",
    "        # and add to error\n",
    "        error += (np.log(1 + yt) - np.log(1 + yp)) ** 2\n",
    "        # return mean error\n",
    "    return error / len(y_true)"
   ]
  },
  {
   "cell_type": "markdown",
   "id": "7b30f311",
   "metadata": {},
   "source": [
    "## Percentage Error"
   ]
  },
  {
   "cell_type": "markdown",
   "id": "f0d2a472",
   "metadata": {},
   "source": [
    "**Percentage Error = ( ( True Value – Predicted Value ) / True Value ) * 100**"
   ]
  },
  {
   "cell_type": "code",
   "execution_count": 6,
   "id": "c6669c24",
   "metadata": {},
   "outputs": [],
   "source": [
    "def mean_percentage_error(y_true, y_pred):\n",
    "    \"\"\"\n",
    "    This function calculates mpe\n",
    "    :param y_true: list of real numbers, true values\n",
    "    :param y_pred: list of real numbers, predicted values\n",
    "    :return: mean percentage error\n",
    "    \"\"\"\n",
    "    # initialize error at 0\n",
    "    error = 0\n",
    "    # loop over all samples in true and predicted list\n",
    "    for yt, yp in zip(y_true, y_pred):\n",
    "        # calculate percentage error\n",
    "        # and add to error\n",
    "        error += (yt - yp) / yt\n",
    "    # return mean percentage error\n",
    "    return error / len(y_true)"
   ]
  },
  {
   "cell_type": "code",
   "execution_count": null,
   "id": "6ca2d9ec",
   "metadata": {},
   "outputs": [],
   "source": []
  }
 ],
 "metadata": {
  "kernelspec": {
   "display_name": "time_series",
   "language": "python",
   "name": "time_series"
  },
  "language_info": {
   "codemirror_mode": {
    "name": "ipython",
    "version": 3
   },
   "file_extension": ".py",
   "mimetype": "text/x-python",
   "name": "python",
   "nbconvert_exporter": "python",
   "pygments_lexer": "ipython3",
   "version": "3.8.5"
  }
 },
 "nbformat": 4,
 "nbformat_minor": 5
}
