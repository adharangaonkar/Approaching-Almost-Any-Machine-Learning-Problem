{
 "cells": [
  {
   "cell_type": "markdown",
   "id": "529bf6b1",
   "metadata": {},
   "source": [
    "### True Positive Rate"
   ]
  },
  {
   "cell_type": "markdown",
   "id": "bd36ddd5",
   "metadata": {},
   "source": [
    "TPR or True Positive Rate, is the same as recall."
   ]
  },
  {
   "cell_type": "markdown",
   "id": "7c6a464a",
   "metadata": {},
   "source": [
    "**TPR = TP / (TP + FN)**"
   ]
  },
  {
   "cell_type": "markdown",
   "id": "df0599af",
   "metadata": {},
   "source": [
    "Even though it is same as recall, we will make a python function for it for further\n",
    "use with this name."
   ]
  },
  {
   "cell_type": "code",
   "execution_count": 1,
   "id": "30ddf8bf",
   "metadata": {},
   "outputs": [],
   "source": [
    "def tpr(y_true, y_pred):\n",
    "    \"\"\"\n",
    "    Function to calculate tpr\n",
    "    :param y_true: list of true values\n",
    "    :param y_pred: list of predicted values\n",
    "    :return: tpr/recall\n",
    "    \"\"\"\n",
    "    return recall(y_true, y_pred)"
   ]
  },
  {
   "cell_type": "markdown",
   "id": "141eb008",
   "metadata": {},
   "source": [
    "TPR or recall is also known as **sensitivity**."
   ]
  },
  {
   "cell_type": "markdown",
   "id": "ad374359",
   "metadata": {},
   "source": [
    "### False Positive Rate"
   ]
  },
  {
   "cell_type": "markdown",
   "id": "01644ee7",
   "metadata": {},
   "source": [
    "**FPR = FP / (TN + FP)**"
   ]
  },
  {
   "cell_type": "code",
   "execution_count": 2,
   "id": "ff8fb251",
   "metadata": {},
   "outputs": [],
   "source": [
    "def fpr(y_true, y_pred):\n",
    "    \"\"\"\n",
    "    Function to calculate fpr\n",
    "    :param y_true: list of true values\n",
    "    :param y_pred: list of predicted values\n",
    "    :return: fpr\n",
    "    \"\"\"\n",
    "    fp = false_positive(y_true, y_pred)\n",
    "    tn = true_negative(y_true, y_pred)\n",
    "    return fp / (tn + fp)"
   ]
  },
  {
   "cell_type": "markdown",
   "id": "7c21153d",
   "metadata": {},
   "source": [
    "And **1 - FPR** is known as **specificity** or **True Negative Rate** or **TNR**."
   ]
  },
  {
   "cell_type": "markdown",
   "id": "5d3b5918",
   "metadata": {},
   "source": [
    "These are a lot of terms, but the most important ones out of these are only TPR and\n",
    "FPR."
   ]
  },
  {
   "cell_type": "markdown",
   "id": "cda2345f",
   "metadata": {},
   "source": [
    "For a typical threshold of >= 0.5, we can evaluate all the above values of precision,\n",
    "recall/TPR, F1 and FPR. But we can do the same if we choose the value of the\n",
    "threshold to be 0.4 or 0.6. In fact, we can choose any value between 0 and 1 and\n",
    "calculate all the metrics described above."
   ]
  },
  {
   "cell_type": "markdown",
   "id": "1ec9a9b0",
   "metadata": {},
   "source": [
    "Let’s calculate only two values, though: TPR and FPR."
   ]
  },
  {
   "cell_type": "code",
   "execution_count": 5,
   "id": "0c0d99c5",
   "metadata": {},
   "outputs": [],
   "source": [
    "def recall(y_true, y_pred):\n",
    "    \"\"\"\n",
    "    Function to calculate recall\n",
    "    :param y_true: list of true values\n",
    "    :param y_pred: list of predicted values\n",
    "    :return: recall score\n",
    "    \"\"\"\n",
    "    tp = true_positive(y_true, y_pred)\n",
    "    fn = false_negative(y_true, y_pred)\n",
    "    recall = tp / (tp + fn)\n",
    "    return recall"
   ]
  },
  {
   "cell_type": "code",
   "execution_count": 6,
   "id": "51f1b39a",
   "metadata": {},
   "outputs": [],
   "source": [
    "def precision(y_true, y_pred):\n",
    "    \"\"\"\n",
    "    Function to calculate precision\n",
    "    :param y_true: list of true values\n",
    "    :param y_pred: list of predicted values\n",
    "    :return: precision score\n",
    "    \"\"\"\n",
    "    tp = true_positive(y_true, y_pred)\n",
    "    fp = false_positive(y_true, y_pred)\n",
    "    precision = tp / (tp + fp)\n",
    "    return precision"
   ]
  },
  {
   "cell_type": "code",
   "execution_count": 8,
   "id": "0bf59a96",
   "metadata": {},
   "outputs": [],
   "source": [
    "def true_positive(y_true, y_pred):\n",
    "    \"\"\"\n",
    "    Function to calculate True Positives\n",
    "    :param y_true: list of true values\n",
    "    :param y_pred: list of predicted values\n",
    "    :return: number of true positives\n",
    "    \"\"\"\n",
    "    # initialize\n",
    "    tp = 0\n",
    "    for yt, yp in zip(y_true, y_pred):\n",
    "        if yt == 1 and yp == 1:\n",
    "            tp += 1\n",
    "    return tp\n",
    "def true_negative(y_true, y_pred):\n",
    "    \"\"\"\n",
    "    Function to calculate True Negatives\n",
    "    :param y_true: list of true values\n",
    "    :param y_pred: list of predicted values\n",
    "    :return: number of true negatives\n",
    "    \"\"\"\n",
    "    # initialize\n",
    "    tn = 0\n",
    "    for yt, yp in zip(y_true, y_pred):\n",
    "        if yt == 0 and yp == 0:\n",
    "            tn += 1\n",
    "    return tn\n",
    "def false_positive(y_true, y_pred):\n",
    "    \"\"\"\n",
    "    Function to calculate False Positives\n",
    "    :param y_true: list of true values\n",
    "    :param y_pred: list of predicted values\n",
    "    :return: number of false positives\n",
    "    \"\"\"\n",
    "    # initialize\n",
    "    fp = 0\n",
    "    for yt, yp in zip(y_true, y_pred):\n",
    "        if yt == 0 and yp == 1:\n",
    "            fp += 1\n",
    "    return fp\n",
    "def false_negative(y_true, y_pred):\n",
    "    \"\"\"\n",
    "    Function to calculate False Negatives\n",
    "    :param y_true: list of true values\n",
    "    :param y_pred: list of predicted values\n",
    "    :return: number of false negatives\n",
    "    \"\"\"\n",
    "    # initialize\n",
    "    fn = 0\n",
    "    for yt, yp in zip(y_true, y_pred):\n",
    "        if yt == 1 and yp == 0:\n",
    "            fn += 1\n",
    "    return fn"
   ]
  },
  {
   "cell_type": "code",
   "execution_count": 9,
   "id": "348c6128",
   "metadata": {},
   "outputs": [],
   "source": [
    "# empty lists to store tpr\n",
    "# and fpr values\n",
    "tpr_list = []\n",
    "fpr_list = []\n",
    "# actual targets\n",
    "y_true = [0, 0, 0, 0, 1, 0, 1,\n",
    "0, 0, 1, 0, 1, 0, 0, 1]\n",
    "# predicted probabilities of a sample being 1\n",
    "y_pred = [0.1, 0.3, 0.2, 0.6, 0.8, 0.05,\n",
    "0.9, 0.5, 0.3, 0.66, 0.3, 0.2,\n",
    "0.85, 0.15, 0.99]\n",
    "# handmade thresholds\n",
    "thresholds = [0, 0.1, 0.2, 0.3, 0.4, 0.5,\n",
    "0.6, 0.7, 0.8, 0.85, 0.9, 0.99, 1.0]\n",
    "# loop over all thresholds\n",
    "for thresh in thresholds:\n",
    "    # calculate predictions for a given threshold\n",
    "    temp_pred = [1 if x >= thresh else 0 for x in y_pred]\n",
    "    # calculate tpr\n",
    "    temp_tpr = tpr(y_true, temp_pred)\n",
    "    # calculate fpr\n",
    "    temp_fpr = fpr(y_true, temp_pred)\n",
    "    # append tpr and fpr to lists\n",
    "    tpr_list.append(temp_tpr)\n",
    "    fpr_list.append(temp_fpr)"
   ]
  },
  {
   "cell_type": "code",
   "execution_count": 17,
   "id": "0bccc767",
   "metadata": {},
   "outputs": [],
   "source": [
    "import pandas as pd\n",
    "df = pd.DataFrame(list(zip(thresholds, tpr_list, fpr_list)),\n",
    "               columns =['thresholds', 'tpr_list', 'fpr_list'])"
   ]
  },
  {
   "cell_type": "code",
   "execution_count": 18,
   "id": "01beba0b",
   "metadata": {},
   "outputs": [
    {
     "data": {
      "text/html": [
       "<div>\n",
       "<style scoped>\n",
       "    .dataframe tbody tr th:only-of-type {\n",
       "        vertical-align: middle;\n",
       "    }\n",
       "\n",
       "    .dataframe tbody tr th {\n",
       "        vertical-align: top;\n",
       "    }\n",
       "\n",
       "    .dataframe thead th {\n",
       "        text-align: right;\n",
       "    }\n",
       "</style>\n",
       "<table border=\"1\" class=\"dataframe\">\n",
       "  <thead>\n",
       "    <tr style=\"text-align: right;\">\n",
       "      <th></th>\n",
       "      <th>thresholds</th>\n",
       "      <th>tpr_list</th>\n",
       "      <th>fpr_list</th>\n",
       "    </tr>\n",
       "  </thead>\n",
       "  <tbody>\n",
       "    <tr>\n",
       "      <th>0</th>\n",
       "      <td>0.00</td>\n",
       "      <td>1.0</td>\n",
       "      <td>1.0</td>\n",
       "    </tr>\n",
       "    <tr>\n",
       "      <th>1</th>\n",
       "      <td>0.10</td>\n",
       "      <td>1.0</td>\n",
       "      <td>0.9</td>\n",
       "    </tr>\n",
       "    <tr>\n",
       "      <th>2</th>\n",
       "      <td>0.20</td>\n",
       "      <td>1.0</td>\n",
       "      <td>0.7</td>\n",
       "    </tr>\n",
       "    <tr>\n",
       "      <th>3</th>\n",
       "      <td>0.30</td>\n",
       "      <td>0.8</td>\n",
       "      <td>0.6</td>\n",
       "    </tr>\n",
       "    <tr>\n",
       "      <th>4</th>\n",
       "      <td>0.40</td>\n",
       "      <td>0.8</td>\n",
       "      <td>0.3</td>\n",
       "    </tr>\n",
       "    <tr>\n",
       "      <th>5</th>\n",
       "      <td>0.50</td>\n",
       "      <td>0.8</td>\n",
       "      <td>0.3</td>\n",
       "    </tr>\n",
       "    <tr>\n",
       "      <th>6</th>\n",
       "      <td>0.60</td>\n",
       "      <td>0.8</td>\n",
       "      <td>0.2</td>\n",
       "    </tr>\n",
       "    <tr>\n",
       "      <th>7</th>\n",
       "      <td>0.70</td>\n",
       "      <td>0.6</td>\n",
       "      <td>0.1</td>\n",
       "    </tr>\n",
       "    <tr>\n",
       "      <th>8</th>\n",
       "      <td>0.80</td>\n",
       "      <td>0.6</td>\n",
       "      <td>0.1</td>\n",
       "    </tr>\n",
       "    <tr>\n",
       "      <th>9</th>\n",
       "      <td>0.85</td>\n",
       "      <td>0.4</td>\n",
       "      <td>0.1</td>\n",
       "    </tr>\n",
       "    <tr>\n",
       "      <th>10</th>\n",
       "      <td>0.90</td>\n",
       "      <td>0.4</td>\n",
       "      <td>0.0</td>\n",
       "    </tr>\n",
       "    <tr>\n",
       "      <th>11</th>\n",
       "      <td>0.99</td>\n",
       "      <td>0.2</td>\n",
       "      <td>0.0</td>\n",
       "    </tr>\n",
       "    <tr>\n",
       "      <th>12</th>\n",
       "      <td>1.00</td>\n",
       "      <td>0.0</td>\n",
       "      <td>0.0</td>\n",
       "    </tr>\n",
       "  </tbody>\n",
       "</table>\n",
       "</div>"
      ],
      "text/plain": [
       "    thresholds  tpr_list  fpr_list\n",
       "0         0.00       1.0       1.0\n",
       "1         0.10       1.0       0.9\n",
       "2         0.20       1.0       0.7\n",
       "3         0.30       0.8       0.6\n",
       "4         0.40       0.8       0.3\n",
       "5         0.50       0.8       0.3\n",
       "6         0.60       0.8       0.2\n",
       "7         0.70       0.6       0.1\n",
       "8         0.80       0.6       0.1\n",
       "9         0.85       0.4       0.1\n",
       "10        0.90       0.4       0.0\n",
       "11        0.99       0.2       0.0\n",
       "12        1.00       0.0       0.0"
      ]
     },
     "execution_count": 18,
     "metadata": {},
     "output_type": "execute_result"
    }
   ],
   "source": [
    "df"
   ]
  },
  {
   "cell_type": "code",
   "execution_count": 20,
   "id": "cd6d2d93",
   "metadata": {},
   "outputs": [
    {
     "data": {
      "image/png": "[encoded data removed]",
      "text/plain": [
       "<Figure size 504x504 with 1 Axes>"
      ]
     },
     "metadata": {
      "needs_background": "light"
     },
     "output_type": "display_data"
    }
   ],
   "source": [
    "import matplotlib.pyplot as plt\n",
    "plt.figure(figsize=(7, 7))\n",
    "plt.fill_between(fpr_list, tpr_list, alpha=0.4)\n",
    "plt.plot(fpr_list, tpr_list, lw=3)\n",
    "plt.xlim(0, 1.0)\n",
    "plt.ylim(0, 1.0)\n",
    "plt.xlabel('FPR', fontsize=15)\n",
    "plt.ylabel('TPR', fontsize=15)\n",
    "plt.show()"
   ]
  },
  {
   "cell_type": "markdown",
   "id": "74906ef3",
   "metadata": {},
   "source": [
    "This curve is also known as the **Receiver Operating Characteristic (ROC)**. And\n",
    "if we calculate the area under this ROC curve, we are calculating another metric\n",
    "which is used very often when you have a dataset which has skewed binary targets."
   ]
  },
  {
   "cell_type": "markdown",
   "id": "1d0042cd",
   "metadata": {},
   "source": [
    "This metric is known as the **Area Under ROC Curve** or **Area Under Curve** or\n",
    "just simply **AUC**. There are many ways to calculate the area under the ROC curve.\n",
    "For this particular purpose, we will stick to the fantastic implementation by scikitlearn."
   ]
  },
  {
   "cell_type": "code",
   "execution_count": 22,
   "id": "3bd57cd5",
   "metadata": {},
   "outputs": [
    {
     "data": {
      "text/plain": [
       "0.8300000000000001"
      ]
     },
     "execution_count": 22,
     "metadata": {},
     "output_type": "execute_result"
    }
   ],
   "source": [
    "from sklearn import metrics\n",
    "y_true = [0, 0, 0, 0, 1, 0, 1, 0, 0, 1, 0, 1, 0, 0, 1]\n",
    "y_pred = [0.1, 0.3, 0.2, 0.6, 0.8, 0.05,\n",
    "                  0.9, 0.5, 0.3, 0.66, 0.3, 0.2,\n",
    "                  0.85, 0.15, 0.99]\n",
    "\n",
    "metrics.roc_auc_score(y_true, y_pred)"
   ]
  },
  {
   "cell_type": "markdown",
   "id": "dac56bb6",
   "metadata": {},
   "source": [
    "**AUC values range from 0 to 1.**"
   ]
  },
  {
   "cell_type": "markdown",
   "id": "c35c29da",
   "metadata": {},
   "source": [
    "- **AUC = 1** implies you have a perfect model. Most of the time, it means that\n",
    "you made some mistake with validation and should revisit data processing\n",
    "and validation pipeline of yours. If you didn’t make any mistakes, then\n",
    "congratulations, you have the best model one can have for the dataset you\n",
    "built it on."
   ]
  },
  {
   "cell_type": "markdown",
   "id": "2059d707",
   "metadata": {},
   "source": [
    "- **AUC = 0** implies that your model is very bad (or very good!). Try inverting\n",
    "the probabilities for the predictions, for example, if your probability for the\n",
    "positive class is p, try substituting it with 1-p. This kind of AUC may also\n",
    "mean that there is some problem with your validation or data processing."
   ]
  },
  {
   "cell_type": "markdown",
   "id": "0de1a6d9",
   "metadata": {},
   "source": [
    "- **AUC** = 0.5 implies that your predictions are random. So, for any binary\n",
    "classification problem, if I predict all targets as 0.5, I will get an AUC of 0.5."
   ]
  },
  {
   "cell_type": "markdown",
   "id": "648cd2d1",
   "metadata": {},
   "source": [
    "![ROC_AUC](images/ROC_AUC.png)"
   ]
  },
  {
   "cell_type": "markdown",
   "id": "8948b234",
   "metadata": {},
   "source": [
    "AUC values between 0 and 0.5 imply that your model is worse than random. Most\n",
    "of the time, it’s because you inverted the classes. If you try to invert your\n",
    "predictions, your AUC might become more than 0.5. AUC values closer to 1 are\n",
    "considered good."
   ]
  },
  {
   "cell_type": "markdown",
   "id": "d3c6d76e",
   "metadata": {},
   "source": [
    "And guess what, you can use the ROC curve to choose this threshold! The ROC\n",
    "curve will tell you how the threshold impacts false positive rate and true positive\n",
    "rate and thus, in turn, false positives and true positives. You should choose the\n",
    "threshold that is best suited for your problem and datasets."
   ]
  },
  {
   "cell_type": "markdown",
   "id": "feaede9c",
   "metadata": {},
   "source": [
    "***For example, if you don’t want to have too many false positives, you should have a\n",
    "high threshold value. This will, however, also give you a lot more false negatives.\n",
    "Observe the trade-off and select the best threshold.***"
   ]
  },
  {
   "cell_type": "code",
   "execution_count": 24,
   "id": "ebe7c7be",
   "metadata": {},
   "outputs": [],
   "source": [
    "# empty lists to store true positive\n",
    "# and false positive values\n",
    "tp_list = []\n",
    "fp_list = []\n",
    "# actual targets\n",
    "y_true = [0, 0, 0, 0, 1, 0, 1,\n",
    "0, 0, 1, 0, 1, 0, 0, 1]\n",
    "# predicted probabilities of a sample being 1\n",
    "y_pred = [0.1, 0.3, 0.2, 0.6, 0.8, 0.05,\n",
    "0.9, 0.5, 0.3, 0.66, 0.3, 0.2,\n",
    "0.85, 0.15, 0.99]\n",
    "# some handmade thresholds\n",
    "thresholds = [0, 0.1, 0.2, 0.3, 0.4, 0.5,\n",
    "0.6, 0.7, 0.8, 0.85, 0.9, 0.99, 1.0]\n",
    "# loop over all thresholds\n",
    "for thresh in thresholds:\n",
    "# calculate predictions for a given threshold\n",
    "    temp_pred = [1 if x >= thresh else 0 for x in y_pred]\n",
    "    # calculate tp\n",
    "    temp_tp = true_positive(y_true, temp_pred)\n",
    "    # calculate fp\n",
    "    temp_fp = false_positive(y_true, temp_pred)\n",
    "    # append tp and fp to lists\n",
    "    tp_list.append(temp_tp)\n",
    "    fp_list.append(temp_fp)"
   ]
  },
  {
   "cell_type": "markdown",
   "id": "d7aaff76",
   "metadata": {},
   "source": [
    "Most of the time, the top-left value on ROC curve should give you a quite good\n",
    "threshold"
   ]
  },
  {
   "cell_type": "markdown",
   "id": "24ac40e0",
   "metadata": {},
   "source": [
    "![ROC_AUC](images/best_roc.png)"
   ]
  },
  {
   "cell_type": "markdown",
   "id": "cc786926",
   "metadata": {},
   "source": [
    "AUC is a widely used metric for skewed binary classification tasks in the industry,\n",
    "and a metric everyone should know about. Once you understand the idea behind\n",
    "AUC, as explained in the paragraphs above, it is also easy to explain it to nontechnical\n",
    "people who would probably be assessing your models in the industry."
   ]
  },
  {
   "cell_type": "markdown",
   "id": "6400b4c3",
   "metadata": {},
   "source": [
    "### Log Loss"
   ]
  },
  {
   "cell_type": "markdown",
   "id": "e4b85cb2",
   "metadata": {},
   "source": [
    "**Log Loss = - 1.0 * ( target * log(prediction) + (1 - target) * log(1 - prediction) )**"
   ]
  },
  {
   "cell_type": "markdown",
   "id": "6fa6647a",
   "metadata": {},
   "source": [
    "For multiple samples in the dataset, the log-loss over all samples is a mere average\n",
    "of all individual log losses. One thing to remember is that log loss penalizes quite\n",
    "high for an incorrect or a far-off prediction, i.e. log loss punishes you for being very\n",
    "sure and very wrong."
   ]
  },
  {
   "cell_type": "code",
   "execution_count": 26,
   "id": "498d6943",
   "metadata": {},
   "outputs": [],
   "source": [
    "import numpy as np\n",
    "def log_loss(y_true, y_proba):\n",
    "    \"\"\"\n",
    "    Function to calculate log loss\n",
    "    :param y_true: list of true values\n",
    "    :param y_proba: list of probabilities for 1\n",
    "    :return: overall log loss\n",
    "    \"\"\"\n",
    "    # define an epsilon value\n",
    "    # this can also be an input\n",
    "    # this value is used to clip probabilities\n",
    "    epsilon = 1e-15\n",
    "    # initialize empty list to store\n",
    "    # individual losses\n",
    "    loss = []\n",
    "    # loop over all true and predicted probability values\n",
    "    for yt, yp in zip(y_true, y_proba):\n",
    "        # adjust probability\n",
    "        # 0 gets converted to 1e-15\n",
    "        # 1 gets converted to 1-1e-15\n",
    "        # Why? Think about it!\n",
    "        yp = np.clip(yp, epsilon, 1 - epsilon)\n",
    "        # calculate loss for one sample\n",
    "        temp_loss = - 1.0 * (\n",
    "        yt * np.log(yp)\n",
    "        + (1 - yt) * np.log(1 - yp)\n",
    "        )\n",
    "        # add to loss list\n",
    "        loss.append(temp_loss)\n",
    "    # return mean loss over all samples\n",
    "    return np.mean(loss)"
   ]
  },
  {
   "cell_type": "code",
   "execution_count": 27,
   "id": "217b910b",
   "metadata": {},
   "outputs": [
    {
     "data": {
      "text/plain": [
       "0.49882711861432294"
      ]
     },
     "execution_count": 27,
     "metadata": {},
     "output_type": "execute_result"
    }
   ],
   "source": [
    "y_true = [0, 0, 0, 0, 1, 0, 1, 0, 0, 1, 0, 1, 0, 0, 1]\n",
    "y_proba = [0.1, 0.3, 0.2, 0.6, 0.8, 0.05, 0.9, 0.5, 0.3, 0.66, 0.3, 0.2,\n",
    "0.85, 0.15, 0.99]\n",
    "log_loss(y_true, y_proba)"
   ]
  },
  {
   "cell_type": "code",
   "execution_count": 28,
   "id": "760acb24",
   "metadata": {},
   "outputs": [
    {
     "data": {
      "text/plain": [
       "0.49882711861432294"
      ]
     },
     "execution_count": 28,
     "metadata": {},
     "output_type": "execute_result"
    }
   ],
   "source": [
    "from sklearn import metrics\n",
    "metrics.log_loss(y_true, y_proba)"
   ]
  },
  {
   "cell_type": "code",
   "execution_count": null,
   "id": "acf901dd",
   "metadata": {},
   "outputs": [],
   "source": []
  }
 ],
 "metadata": {
  "kernelspec": {
   "display_name": "time_series",
   "language": "python",
   "name": "time_series"
  },
  "language_info": {
   "codemirror_mode": {
    "name": "ipython",
    "version": 3
   },
   "file_extension": ".py",
   "mimetype": "text/x-python",
   "name": "python",
   "nbconvert_exporter": "python",
   "pygments_lexer": "ipython3",
   "version": "3.8.5"
  }
 },
 "nbformat": 4,
 "nbformat_minor": 5
}
