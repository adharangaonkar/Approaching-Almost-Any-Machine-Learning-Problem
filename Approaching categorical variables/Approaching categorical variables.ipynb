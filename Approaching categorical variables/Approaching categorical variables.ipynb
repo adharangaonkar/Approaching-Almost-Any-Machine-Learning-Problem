{
 "cells": [
  {
   "cell_type": "markdown",
   "id": "bc5da624",
   "metadata": {},
   "source": [
    "## What are categorical variables?"
   ]
  },
  {
   "cell_type": "markdown",
   "id": "39f84fa6",
   "metadata": {},
   "source": [
    "Categorical variables/features are any feature type can be classified into two major\n",
    "types:"
   ]
  },
  {
   "cell_type": "markdown",
   "id": "904f9f5a",
   "metadata": {},
   "source": [
    "- **Nominal**\n",
    "- **Ordinal**"
   ]
  },
  {
   "cell_type": "markdown",
   "id": "c5be94a3",
   "metadata": {},
   "source": [
    "**Nominal variables** <br> \n",
    "are variables that have two or more categories which do not\n",
    "have any kind of order associated with them. For example, if gender is classified\n",
    "into two groups, i.e. male and female, it can be considered as a nominal variable."
   ]
  },
  {
   "cell_type": "markdown",
   "id": "ad0888c2",
   "metadata": {},
   "source": [
    "**Ordinal variables**\n",
    "on the other hand, have “levels” or categories with a particular\n",
    "order associated with them. For example, an ordinal categorical variable can be a\n",
    "feature with three different levels: low, medium and high. Order is important."
   ]
  },
  {
   "cell_type": "markdown",
   "id": "25a3ece8",
   "metadata": {},
   "source": [
    "As far as definitions are concerned, we can also categorize categorical variables as\n",
    "**binary**, i.e., a categorical variable with only two categories. Some even talk about\n",
    "a type called **“cyclic”** for categorical variables. Cyclic variables are present in\n",
    "“cycles” for example, days in a week: Sunday, Monday, Tuesday, Wednesday,\n",
    "Thursday, Friday and Saturday. After Saturday, we have Sunday again. This is a\n",
    "cycle. Another example would be hours in a day if we consider them to be\n",
    "categories."
   ]
  },
  {
   "cell_type": "code",
   "execution_count": 9,
   "id": "d10a24f0",
   "metadata": {},
   "outputs": [],
   "source": [
    "import pandas as pd\n",
    "import matplotlib.pyplot as plt"
   ]
  },
  {
   "cell_type": "code",
   "execution_count": 3,
   "id": "d118aa32",
   "metadata": {},
   "outputs": [],
   "source": [
    "df = pd.read_csv('../cat_train.csv')"
   ]
  },
  {
   "cell_type": "code",
   "execution_count": 4,
   "id": "d7ad0a5a",
   "metadata": {},
   "outputs": [
    {
     "data": {
      "text/html": [
       "<div>\n",
       "<style scoped>\n",
       "    .dataframe tbody tr th:only-of-type {\n",
       "        vertical-align: middle;\n",
       "    }\n",
       "\n",
       "    .dataframe tbody tr th {\n",
       "        vertical-align: top;\n",
       "    }\n",
       "\n",
       "    .dataframe thead th {\n",
       "        text-align: right;\n",
       "    }\n",
       "</style>\n",
       "<table border=\"1\" class=\"dataframe\">\n",
       "  <thead>\n",
       "    <tr style=\"text-align: right;\">\n",
       "      <th></th>\n",
       "      <th>id</th>\n",
       "      <th>bin_0</th>\n",
       "      <th>bin_1</th>\n",
       "      <th>bin_2</th>\n",
       "      <th>bin_3</th>\n",
       "      <th>bin_4</th>\n",
       "      <th>nom_0</th>\n",
       "      <th>nom_1</th>\n",
       "      <th>nom_2</th>\n",
       "      <th>nom_3</th>\n",
       "      <th>...</th>\n",
       "      <th>nom_9</th>\n",
       "      <th>ord_0</th>\n",
       "      <th>ord_1</th>\n",
       "      <th>ord_2</th>\n",
       "      <th>ord_3</th>\n",
       "      <th>ord_4</th>\n",
       "      <th>ord_5</th>\n",
       "      <th>day</th>\n",
       "      <th>month</th>\n",
       "      <th>target</th>\n",
       "    </tr>\n",
       "  </thead>\n",
       "  <tbody>\n",
       "    <tr>\n",
       "      <th>0</th>\n",
       "      <td>0</td>\n",
       "      <td>0.0</td>\n",
       "      <td>0.0</td>\n",
       "      <td>0.0</td>\n",
       "      <td>F</td>\n",
       "      <td>N</td>\n",
       "      <td>Red</td>\n",
       "      <td>Trapezoid</td>\n",
       "      <td>Hamster</td>\n",
       "      <td>Russia</td>\n",
       "      <td>...</td>\n",
       "      <td>02e7c8990</td>\n",
       "      <td>3.0</td>\n",
       "      <td>Contributor</td>\n",
       "      <td>Hot</td>\n",
       "      <td>c</td>\n",
       "      <td>U</td>\n",
       "      <td>Pw</td>\n",
       "      <td>6.0</td>\n",
       "      <td>3.0</td>\n",
       "      <td>0</td>\n",
       "    </tr>\n",
       "    <tr>\n",
       "      <th>1</th>\n",
       "      <td>1</td>\n",
       "      <td>1.0</td>\n",
       "      <td>1.0</td>\n",
       "      <td>0.0</td>\n",
       "      <td>F</td>\n",
       "      <td>Y</td>\n",
       "      <td>Red</td>\n",
       "      <td>Star</td>\n",
       "      <td>Axolotl</td>\n",
       "      <td>NaN</td>\n",
       "      <td>...</td>\n",
       "      <td>f37df64af</td>\n",
       "      <td>3.0</td>\n",
       "      <td>Grandmaster</td>\n",
       "      <td>Warm</td>\n",
       "      <td>e</td>\n",
       "      <td>X</td>\n",
       "      <td>pE</td>\n",
       "      <td>7.0</td>\n",
       "      <td>7.0</td>\n",
       "      <td>0</td>\n",
       "    </tr>\n",
       "    <tr>\n",
       "      <th>2</th>\n",
       "      <td>2</td>\n",
       "      <td>0.0</td>\n",
       "      <td>1.0</td>\n",
       "      <td>0.0</td>\n",
       "      <td>F</td>\n",
       "      <td>N</td>\n",
       "      <td>Red</td>\n",
       "      <td>NaN</td>\n",
       "      <td>Hamster</td>\n",
       "      <td>Canada</td>\n",
       "      <td>...</td>\n",
       "      <td>NaN</td>\n",
       "      <td>3.0</td>\n",
       "      <td>NaN</td>\n",
       "      <td>Freezing</td>\n",
       "      <td>n</td>\n",
       "      <td>P</td>\n",
       "      <td>eN</td>\n",
       "      <td>5.0</td>\n",
       "      <td>9.0</td>\n",
       "      <td>0</td>\n",
       "    </tr>\n",
       "    <tr>\n",
       "      <th>3</th>\n",
       "      <td>3</td>\n",
       "      <td>NaN</td>\n",
       "      <td>0.0</td>\n",
       "      <td>0.0</td>\n",
       "      <td>F</td>\n",
       "      <td>N</td>\n",
       "      <td>Red</td>\n",
       "      <td>Circle</td>\n",
       "      <td>Hamster</td>\n",
       "      <td>Finland</td>\n",
       "      <td>...</td>\n",
       "      <td>f9d456e57</td>\n",
       "      <td>1.0</td>\n",
       "      <td>Novice</td>\n",
       "      <td>Lava Hot</td>\n",
       "      <td>a</td>\n",
       "      <td>C</td>\n",
       "      <td>NaN</td>\n",
       "      <td>3.0</td>\n",
       "      <td>3.0</td>\n",
       "      <td>0</td>\n",
       "    </tr>\n",
       "    <tr>\n",
       "      <th>4</th>\n",
       "      <td>4</td>\n",
       "      <td>0.0</td>\n",
       "      <td>NaN</td>\n",
       "      <td>0.0</td>\n",
       "      <td>T</td>\n",
       "      <td>N</td>\n",
       "      <td>Red</td>\n",
       "      <td>Triangle</td>\n",
       "      <td>Hamster</td>\n",
       "      <td>Costa Rica</td>\n",
       "      <td>...</td>\n",
       "      <td>c5361037c</td>\n",
       "      <td>3.0</td>\n",
       "      <td>Grandmaster</td>\n",
       "      <td>Cold</td>\n",
       "      <td>h</td>\n",
       "      <td>C</td>\n",
       "      <td>OZ</td>\n",
       "      <td>5.0</td>\n",
       "      <td>12.0</td>\n",
       "      <td>0</td>\n",
       "    </tr>\n",
       "  </tbody>\n",
       "</table>\n",
       "<p>5 rows × 25 columns</p>\n",
       "</div>"
      ],
      "text/plain": [
       "   id  bin_0  bin_1  bin_2 bin_3 bin_4 nom_0      nom_1    nom_2       nom_3  \\\n",
       "0   0    0.0    0.0    0.0     F     N   Red  Trapezoid  Hamster      Russia   \n",
       "1   1    1.0    1.0    0.0     F     Y   Red       Star  Axolotl         NaN   \n",
       "2   2    0.0    1.0    0.0     F     N   Red        NaN  Hamster      Canada   \n",
       "3   3    NaN    0.0    0.0     F     N   Red     Circle  Hamster     Finland   \n",
       "4   4    0.0    NaN    0.0     T     N   Red   Triangle  Hamster  Costa Rica   \n",
       "\n",
       "   ...      nom_9 ord_0        ord_1     ord_2 ord_3 ord_4  ord_5  day month  \\\n",
       "0  ...  02e7c8990   3.0  Contributor       Hot     c     U     Pw  6.0   3.0   \n",
       "1  ...  f37df64af   3.0  Grandmaster      Warm     e     X     pE  7.0   7.0   \n",
       "2  ...        NaN   3.0          NaN  Freezing     n     P     eN  5.0   9.0   \n",
       "3  ...  f9d456e57   1.0       Novice  Lava Hot     a     C    NaN  3.0   3.0   \n",
       "4  ...  c5361037c   3.0  Grandmaster      Cold     h     C     OZ  5.0  12.0   \n",
       "\n",
       "  target  \n",
       "0      0  \n",
       "1      0  \n",
       "2      0  \n",
       "3      0  \n",
       "4      0  \n",
       "\n",
       "[5 rows x 25 columns]"
      ]
     },
     "execution_count": 4,
     "metadata": {},
     "output_type": "execute_result"
    }
   ],
   "source": [
    "df.head()"
   ]
  },
  {
   "cell_type": "markdown",
   "id": "a97726c4",
   "metadata": {},
   "source": [
    "**The dataset consists of all kinds of categorical variables:**"
   ]
  },
  {
   "cell_type": "markdown",
   "id": "2699d12e",
   "metadata": {},
   "source": [
    "- Nominal\n",
    "- Ordinal\n",
    "- Cyclical\n",
    "- Binary"
   ]
  },
  {
   "cell_type": "markdown",
   "id": "6a456706",
   "metadata": {},
   "source": [
    "It is a binary classification problem."
   ]
  },
  {
   "cell_type": "markdown",
   "id": "24205a82",
   "metadata": {},
   "source": [
    "The target is not very important for us to learn categorical variables, but in the end,\n",
    "we will be building an end-to-end model so let’s take a look at the target distribution"
   ]
  },
  {
   "cell_type": "code",
   "execution_count": 12,
   "id": "625b8b3e",
   "metadata": {},
   "outputs": [
    {
     "data": {
      "text/plain": [
       "(array([487677.,      0.,      0.,      0.,      0.,      0.,      0.,\n",
       "             0.,      0., 112323.]),\n",
       " array([0. , 0.1, 0.2, 0.3, 0.4, 0.5, 0.6, 0.7, 0.8, 0.9, 1. ]),\n",
       " <BarContainer object of 10 artists>)"
      ]
     },
     "execution_count": 12,
     "metadata": {},
     "output_type": "execute_result"
    },
    {
     "data": {
      "image/png": "[encoded data removed]",
      "text/plain": [
       "<Figure size 432x288 with 1 Axes>"
      ]
     },
     "metadata": {
      "needs_background": "light"
     },
     "output_type": "display_data"
    }
   ],
   "source": [
    "plt.hist(df.target)"
   ]
  },
  {
   "cell_type": "markdown",
   "id": "8e7cec09",
   "metadata": {},
   "source": [
    "We see that the target is **skewed** and thus the best metric for this binary\n",
    "classification problem would be Area Under the ROC Curve (AUC). We can use\n",
    "precision and recall too, but AUC combines these two metrics. Thus, we will be\n",
    "using AUC to evaluate the model that we build on this dataset."
   ]
  },
  {
   "cell_type": "markdown",
   "id": "7254e4fb",
   "metadata": {},
   "source": [
    "**Overall, there are:**"
   ]
  },
  {
   "cell_type": "markdown",
   "id": "756d6954",
   "metadata": {},
   "source": [
    "- Five binary variables\n",
    "- Ten nominal variables\n",
    "- Six ordinal variables\n",
    "- Two cyclic variables\n",
    "- And a target variable"
   ]
  },
  {
   "cell_type": "markdown",
   "id": "778ea53c",
   "metadata": {},
   "source": [
    "**Let’s look at ord_2 feature in the dataset. It consists of six different categories:**"
   ]
  },
  {
   "cell_type": "markdown",
   "id": "efd1bde8",
   "metadata": {},
   "source": [
    "- Freezing\n",
    "- Warm\n",
    "- Cold\n",
    "- Boiling Hot\n",
    "- Hot\n",
    "- Lava Hot"
   ]
  },
  {
   "cell_type": "markdown",
   "id": "93a97efb",
   "metadata": {},
   "source": [
    "We need to\n",
    "convert these categories to numbers. A simple way of doing this would be to create\n",
    "a dictionary that maps these values to numbers starting from 0 to N-1, where N is\n",
    "the total number of categories in a given feature."
   ]
  },
  {
   "cell_type": "code",
   "execution_count": 14,
   "id": "57a06ba4",
   "metadata": {},
   "outputs": [],
   "source": [
    "mapping = {\n",
    "\"Freezing\": 0,\n",
    "\"Warm\": 1,\n",
    "\"Cold\": 2,\n",
    "\"Boiling Hot\": 3,\n",
    "\"Hot\": 4,\n",
    "\"Lava Hot\": 5\n",
    "}"
   ]
  },
  {
   "cell_type": "code",
   "execution_count": 15,
   "id": "88048b4d",
   "metadata": {},
   "outputs": [],
   "source": [
    "df.loc[:, \"ord_2\"] = df.ord_2.map(mapping)"
   ]
  },
  {
   "cell_type": "code",
   "execution_count": 17,
   "id": "5da06b3c",
   "metadata": {},
   "outputs": [
    {
     "data": {
      "text/plain": [
       "0.0    142726\n",
       "1.0    124239\n",
       "2.0     97822\n",
       "3.0     84790\n",
       "4.0     67508\n",
       "5.0     64840\n",
       "Name: ord_2, dtype: int64"
      ]
     },
     "execution_count": 17,
     "metadata": {},
     "output_type": "execute_result"
    }
   ],
   "source": [
    "df.ord_2.value_counts()"
   ]
  },
  {
   "cell_type": "markdown",
   "id": "de65d86e",
   "metadata": {},
   "source": [
    "This type of encoding of categorical variables is known as **Label Encoding**, i.e.,\n",
    "we are encoding every category as a numerical label."
   ]
  },
  {
   "cell_type": "code",
   "execution_count": 20,
   "id": "fde88962",
   "metadata": {},
   "outputs": [],
   "source": [
    "import pandas as pd\n",
    "from sklearn import preprocessing\n",
    "# read the data\n",
    "df = pd.read_csv('../cat_train.csv')\n",
    "# fill NaN values in ord_2 column\n",
    "df.loc[:, \"ord_2\"] = df.ord_2.fillna(\"NONE\")\n",
    "# initialize LabelEncoder\n",
    "lbl_enc = preprocessing.LabelEncoder()\n",
    "# fit label encoder and transform values on ord_2 column\n",
    "# P.S: do not use this directly. fit first, then transform\n",
    "df.loc[:, \"ord_2\"] = lbl_enc.fit_transform(df.ord_2.values)"
   ]
  },
  {
   "cell_type": "markdown",
   "id": "21e556ea",
   "metadata": {},
   "source": [
    "**You will see that I use fillna from pandas. The reason is LabelEncoder from scikitlearn\n",
    "does not handle NaN values, and ord_2 column has NaN values in it.**"
   ]
  },
  {
   "cell_type": "markdown",
   "id": "4715d939",
   "metadata": {},
   "source": [
    "We can use this directly in many tree-based models or Boosted Trees model"
   ]
  },
  {
   "cell_type": "markdown",
   "id": "af46bac6",
   "metadata": {},
   "source": [
    "This type of encoding cannot be used in linear models, support vector machines or\n",
    "neural networks as they expect data to be normalized (or standardized)."
   ]
  },
  {
   "cell_type": "markdown",
   "id": "f064a21b",
   "metadata": {},
   "source": [
    "**For these types of models, we can binarize the data**"
   ]
  },
  {
   "cell_type": "markdown",
   "id": "13e8f0d5",
   "metadata": {},
   "source": [
    "Freezing --> 0 --> 0 0 0 <br>\n",
    "Warm --> 1 --> 0 0 1 <br>\n",
    "Cold --> 2 --> 0 1 0 <br>\n",
    "Boiling Hot --> 3 --> 0 1 1 <br>\n",
    "Hot --> 4 --> 1 0 0 <br>\n",
    "Lava Hot --> 5 --> 1 0 1 <br>"
   ]
  },
  {
   "cell_type": "markdown",
   "id": "108a7887",
   "metadata": {},
   "source": [
    "This is just converting the categories to numbers and then converting them to their\n",
    "binary representation. We are thus splitting one feature into three (in this case)\n",
    "features (or columns). If we have more categories, we might end up splitting into a\n",
    "lot more columns."
   ]
  },
  {
   "cell_type": "markdown",
   "id": "b3df60dc",
   "metadata": {},
   "source": [
    "It becomes easy to store lots of binarized variables like this if we store them in a\n",
    "sparse format. A sparse format is nothing but a representation or way of storing\n",
    "data in memory in which you do not store all the values but only the values that\n",
    "matter. In the case of binary variables described above, all that matters is where we\n",
    "have ones (1s)."
   ]
  },
  {
   "cell_type": "markdown",
   "id": "5affa77f",
   "metadata": {},
   "source": [
    "Even though the sparse representation of binarized features takes much less\n",
    "memory than its dense representation, there is another transformation for\n",
    "categorical variables that takes even less memory. This is known as **One Hot\n",
    "Encoding**."
   ]
  },
  {
   "cell_type": "markdown",
   "id": "fb5abda9",
   "metadata": {},
   "source": [
    "One hot encoding is a binary encoding too in the sense that there are only two\n",
    "values, 0s and 1s. However, it must be noted that it’s not a binary representation.\n",
    "Its representation can be understood by looking at the following example."
   ]
  },
  {
   "cell_type": "markdown",
   "id": "40c2b767",
   "metadata": {},
   "source": [
    "Let’s take a look at this code."
   ]
  },
  {
   "cell_type": "code",
   "execution_count": 22,
   "id": "a35e0bd4",
   "metadata": {},
   "outputs": [
    {
     "name": "stdout",
     "output_type": "stream",
     "text": [
      "Size of dense array: 72\n",
      "Size of sparse array: 12\n",
      "Full size of sparse array: 40\n"
     ]
    }
   ],
   "source": [
    "import numpy as np\n",
    "from scipy import sparse\n",
    "# create binary matrix\n",
    "example = np.array(\n",
    "[\n",
    "[0, 0, 0, 0, 1, 0],\n",
    "[0, 1, 0, 0, 0, 0],\n",
    "[1, 0, 0, 0, 0, 0]\n",
    "]\n",
    ")\n",
    "# print size in bytes\n",
    "print(f\"Size of dense array: {example.nbytes}\")\n",
    "# convert numpy array to sparse CSR matrix\n",
    "sparse_example = sparse.csr_matrix(example)\n",
    "# print size of this sparse matrix\n",
    "print(f\"Size of sparse array: {sparse_example.data.nbytes}\")\n",
    "full_size = (\n",
    "sparse_example.data.nbytes +\n",
    "sparse_example.indptr.nbytes +\n",
    "sparse_example.indices.nbytes\n",
    ")\n",
    "# print full size of this sparse matrix\n",
    "print(f\"Full size of sparse array: {full_size}\")"
   ]
  },
  {
   "cell_type": "markdown",
   "id": "143db51a",
   "metadata": {},
   "source": [
    "We see that the dense array size is much larger than the one with binarization.\n",
    "However, the size of the sparse array is much less. Let’s try this with a much larger\n",
    "array. In this example, we will use OneHotEncoder from scikit-learn to transform\n",
    "our feature array with 1001 categories into dense and sparse matrices."
   ]
  },
  {
   "cell_type": "code",
   "execution_count": 23,
   "id": "5613473e",
   "metadata": {},
   "outputs": [
    {
     "name": "stdout",
     "output_type": "stream",
     "text": [
      "Size of dense array: 8000000000\n",
      "Size of sparse array: 8000000\n",
      "Full size of sparse array: 16000004\n"
     ]
    }
   ],
   "source": [
    "import numpy as np\n",
    "from sklearn import preprocessing\n",
    "# create random 1-d array with 1001 different categories (int)\n",
    "example = np.random.randint(1000, size=1000000)\n",
    "# initialize OneHotEncoder from scikit-learn\n",
    "# keep sparse = False to get dense array\n",
    "ohe = preprocessing.OneHotEncoder(sparse=False)\n",
    "# fit and transform data with dense one hot encoder\n",
    "ohe_example = ohe.fit_transform(example.reshape(-1, 1))\n",
    "# print size in bytes for dense array\n",
    "print(f\"Size of dense array: {ohe_example.nbytes}\")\n",
    "# initialize OneHotEncoder from scikit-learn\n",
    "# keep sparse = True to get sparse array\n",
    "ohe = preprocessing.OneHotEncoder(sparse=True)\n",
    "# fit and transform data with sparse one-hot encoder\n",
    "ohe_example = ohe.fit_transform(example.reshape(-1, 1))\n",
    "# print size of this sparse matrix\n",
    "print(f\"Size of sparse array: {ohe_example.data.nbytes}\")\n",
    "full_size = (\n",
    "ohe_example.data.nbytes +\n",
    "ohe_example.indptr.nbytes + ohe_example.indices.nbytes\n",
    ")\n",
    "# print full size of this sparse matrix\n",
    "print(f\"Full size of sparse array: {full_size}\")"
   ]
  },
  {
   "cell_type": "markdown",
   "id": "f097de0d",
   "metadata": {},
   "source": [
    "Dense array size here is approximately 8GB and sparse array is 8MB."
   ]
  },
  {
   "cell_type": "markdown",
   "id": "99cf4539",
   "metadata": {},
   "source": [
    "These three methods are the most important ways to handle categorical variables.\n",
    "There are, however, many other different methods you can use to handle categorical\n",
    "variables. An example of one such method is about converting categorical variables\n",
    "to numerical variables."
   ]
  },
  {
   "cell_type": "markdown",
   "id": "05f9e23a",
   "metadata": {},
   "source": [
    "**Whenever you get categorical variables, follow these simple steps:**"
   ]
  },
  {
   "cell_type": "markdown",
   "id": "30c62529",
   "metadata": {},
   "source": [
    "- convert them to integers by applying label encoding using LabelEncoder\n",
    "of scikit-learn or by using a mapping dictionary. If you didn’t fill up NaN\n",
    "values with something, you might have to take care of them in this step\n",
    "- create one-hot encoding. Yes, you can skip binarization!\n",
    "- go for modelling! I mean the machine learning one"
   ]
  },
  {
   "cell_type": "markdown",
   "id": "e6a2c782",
   "metadata": {},
   "source": [
    "Handling NaN data in categorical features is quite essential else you can get the\n",
    "infamous error from scikit-learn’s LabelEncoder:"
   ]
  },
  {
   "cell_type": "code",
   "execution_count": null,
   "id": "03076c3a",
   "metadata": {},
   "outputs": [],
   "source": []
  }
 ],
 "metadata": {
  "kernelspec": {
   "display_name": "time_series",
   "language": "python",
   "name": "time_series"
  },
  "language_info": {
   "codemirror_mode": {
    "name": "ipython",
    "version": 3
   },
   "file_extension": ".py",
   "mimetype": "text/x-python",
   "name": "python",
   "nbconvert_exporter": "python",
   "pygments_lexer": "ipython3",
   "version": "3.8.5"
  }
 },
 "nbformat": 4,
 "nbformat_minor": 5
}
